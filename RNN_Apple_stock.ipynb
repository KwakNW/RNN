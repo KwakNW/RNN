{
  "nbformat": 4,
  "nbformat_minor": 0,
  "metadata": {
    "colab": {
      "name": "RNN Apple_stock_수정후",
      "provenance": [],
      "collapsed_sections": [],
      "toc_visible": true,
      "include_colab_link": true
    },
    "kernelspec": {
      "name": "python3",
      "display_name": "Python 3"
    },
    "accelerator": "GPU"
  },
  "cells": [
    {
      "cell_type": "markdown",
      "metadata": {
        "id": "view-in-github",
        "colab_type": "text"
      },
      "source": [
        "<a href=\"https://colab.research.google.com/github/KwakNW/RNN/blob/master/RNN_Apple_stock.ipynb\" target=\"_parent\"><img src=\"https://colab.research.google.com/assets/colab-badge.svg\" alt=\"Open In Colab\"/></a>"
      ]
    },
    {
      "cell_type": "markdown",
      "metadata": {
        "id": "-kiBWfU80MS1",
        "colab_type": "text"
      },
      "source": [
        "# 애플 사의 주식 예측하기(5년 간의 데이터)"
      ]
    },
    {
      "cell_type": "markdown",
      "metadata": {
        "id": "FgCrY5ox0PcX",
        "colab_type": "text"
      },
      "source": [
        "https://finance.yahoo.com/quote/AAPL/history?period1=1400252400&period2=1558018800&interval=1d&filter=history&frequency=1d"
      ]
    },
    {
      "cell_type": "markdown",
      "metadata": {
        "id": "ItjWRIyM83kY",
        "colab_type": "text"
      },
      "source": [
        "## SImple LSTM"
      ]
    },
    {
      "cell_type": "markdown",
      "metadata": {
        "id": "YPk_y80J8wlK",
        "colab_type": "text"
      },
      "source": [
        "### Data"
      ]
    },
    {
      "cell_type": "code",
      "metadata": {
        "id": "sfBNuT8S5zqO",
        "colab_type": "code",
        "colab": {}
      },
      "source": [
        "import numpy as np  \n",
        "import matplotlib.pyplot as plt  \n",
        "import pandas as pd\n",
        "from sklearn.preprocessing import MinMaxScaler"
      ],
      "execution_count": null,
      "outputs": []
    },
    {
      "cell_type": "code",
      "metadata": {
        "id": "0-U2iW566DnG",
        "colab_type": "code",
        "colab": {
          "base_uri": "https://localhost:8080/",
          "height": 55
        },
        "outputId": "56c275f9-377c-4c12-8504-3abe3a84ca7f"
      },
      "source": [
        "from google.colab import drive\n",
        "drive.mount('/content/gdrive')"
      ],
      "execution_count": null,
      "outputs": [
        {
          "output_type": "stream",
          "text": [
            "Drive already mounted at /content/gdrive; to attempt to forcibly remount, call drive.mount(\"/content/gdrive\", force_remount=True).\n"
          ],
          "name": "stdout"
        }
      ]
    },
    {
      "cell_type": "code",
      "metadata": {
        "id": "G2kMHx3W6FtH",
        "colab_type": "code",
        "colab": {}
      },
      "source": [
        "# 같은 결과를 나오게 하기 위해 seed 설정\n",
        "np.random.seed(2017010794)"
      ],
      "execution_count": null,
      "outputs": []
    },
    {
      "cell_type": "code",
      "metadata": {
        "id": "8xJkMKSA6GhT",
        "colab_type": "code",
        "colab": {}
      },
      "source": [
        "# 데이터 불러오기\n",
        "dataset = pd.read_csv(r'./gdrive/My Drive/apple.csv')  "
      ],
      "execution_count": null,
      "outputs": []
    },
    {
      "cell_type": "code",
      "metadata": {
        "id": "G66JFVAY6He7",
        "colab_type": "code",
        "colab": {
          "base_uri": "https://localhost:8080/",
          "height": 204
        },
        "outputId": "3b7b2e74-3859-483f-c3eb-9bd54c580ca8"
      },
      "source": [
        "dataset.head()"
      ],
      "execution_count": null,
      "outputs": [
        {
          "output_type": "execute_result",
          "data": {
            "text/html": [
              "<div>\n",
              "<style scoped>\n",
              "    .dataframe tbody tr th:only-of-type {\n",
              "        vertical-align: middle;\n",
              "    }\n",
              "\n",
              "    .dataframe tbody tr th {\n",
              "        vertical-align: top;\n",
              "    }\n",
              "\n",
              "    .dataframe thead th {\n",
              "        text-align: right;\n",
              "    }\n",
              "</style>\n",
              "<table border=\"1\" class=\"dataframe\">\n",
              "  <thead>\n",
              "    <tr style=\"text-align: right;\">\n",
              "      <th></th>\n",
              "      <th>Date</th>\n",
              "      <th>Open</th>\n",
              "      <th>High</th>\n",
              "      <th>Low</th>\n",
              "      <th>Close</th>\n",
              "      <th>Adj Close</th>\n",
              "      <th>Volume</th>\n",
              "    </tr>\n",
              "  </thead>\n",
              "  <tbody>\n",
              "    <tr>\n",
              "      <th>0</th>\n",
              "      <td>2014-05-19</td>\n",
              "      <td>85.407143</td>\n",
              "      <td>86.761429</td>\n",
              "      <td>85.332855</td>\n",
              "      <td>86.370003</td>\n",
              "      <td>79.160240</td>\n",
              "      <td>79438800</td>\n",
              "    </tr>\n",
              "    <tr>\n",
              "      <th>1</th>\n",
              "      <td>2014-05-20</td>\n",
              "      <td>86.358574</td>\n",
              "      <td>86.628571</td>\n",
              "      <td>85.818573</td>\n",
              "      <td>86.387146</td>\n",
              "      <td>79.175926</td>\n",
              "      <td>58709000</td>\n",
              "    </tr>\n",
              "    <tr>\n",
              "      <th>2</th>\n",
              "      <td>2014-05-21</td>\n",
              "      <td>86.261429</td>\n",
              "      <td>86.671425</td>\n",
              "      <td>86.008568</td>\n",
              "      <td>86.615715</td>\n",
              "      <td>79.385437</td>\n",
              "      <td>49214900</td>\n",
              "    </tr>\n",
              "    <tr>\n",
              "      <th>3</th>\n",
              "      <td>2014-05-22</td>\n",
              "      <td>86.657143</td>\n",
              "      <td>87.121429</td>\n",
              "      <td>86.300003</td>\n",
              "      <td>86.752853</td>\n",
              "      <td>79.511116</td>\n",
              "      <td>50190000</td>\n",
              "    </tr>\n",
              "    <tr>\n",
              "      <th>4</th>\n",
              "      <td>2014-05-23</td>\n",
              "      <td>86.750000</td>\n",
              "      <td>87.818573</td>\n",
              "      <td>86.638573</td>\n",
              "      <td>87.732857</td>\n",
              "      <td>80.409317</td>\n",
              "      <td>58052400</td>\n",
              "    </tr>\n",
              "  </tbody>\n",
              "</table>\n",
              "</div>"
            ],
            "text/plain": [
              "         Date       Open       High        Low      Close  Adj Close    Volume\n",
              "0  2014-05-19  85.407143  86.761429  85.332855  86.370003  79.160240  79438800\n",
              "1  2014-05-20  86.358574  86.628571  85.818573  86.387146  79.175926  58709000\n",
              "2  2014-05-21  86.261429  86.671425  86.008568  86.615715  79.385437  49214900\n",
              "3  2014-05-22  86.657143  87.121429  86.300003  86.752853  79.511116  50190000\n",
              "4  2014-05-23  86.750000  87.818573  86.638573  87.732857  80.409317  58052400"
            ]
          },
          "metadata": {
            "tags": []
          },
          "execution_count": 5
        }
      ]
    },
    {
      "cell_type": "code",
      "metadata": {
        "id": "J9yKcKOe6Xe7",
        "colab_type": "code",
        "colab": {}
      },
      "source": [
        "# 필요한 open열의 데이터만 불러오기(주식의 개시 가격)\n",
        "dataset = dataset.iloc[:, 1:2].values  "
      ],
      "execution_count": null,
      "outputs": []
    },
    {
      "cell_type": "code",
      "metadata": {
        "id": "BljK6JC66kS0",
        "colab_type": "code",
        "colab": {
          "base_uri": "https://localhost:8080/",
          "height": 343
        },
        "outputId": "6654bf60-64a3-4358-df67-acc12708506f"
      },
      "source": [
        "# 원본 데이터 보기\n",
        "plt.figure(figsize = (15, 5))\n",
        "plt.plot(dataset)\n",
        "plt.show()"
      ],
      "execution_count": null,
      "outputs": [
        {
          "output_type": "display_data",
          "data": {
            "image/png": "[encoded data removed]",
            "text/plain": [
              "<Figure size 1080x360 with 1 Axes>"
            ]
          },
          "metadata": {
            "tags": []
          }
        }
      ]
    },
    {
      "cell_type": "code",
      "metadata": {
        "id": "cIb7xcKp6pFj",
        "colab_type": "code",
        "colab": {}
      },
      "source": [
        "# scikit-learn 라이브러리 의 MinMaxScaler 전처리 클래스를 사용하여 데이터 세트를 쉽게 정규화.\n",
        "# MinMaxScaler : 모든 특성들이 0 과 1 사이에 위치하도록 데이터를 비례적으로 조정\n",
        "\n",
        "scaler = MinMaxScaler(feature_range=(0, 1))\n",
        "dataset = scaler.fit_transform(dataset)"
      ],
      "execution_count": null,
      "outputs": []
    },
    {
      "cell_type": "code",
      "metadata": {
        "id": "xywBurbq6qmE",
        "colab_type": "code",
        "colab": {
          "base_uri": "https://localhost:8080/",
          "height": 143
        },
        "outputId": "89953a38-3148-465f-b938-2128e68d0100"
      },
      "source": [
        "dataset"
      ],
      "execution_count": null,
      "outputs": [
        {
          "output_type": "execute_result",
          "data": {
            "text/plain": [
              "array([[0.        ],\n",
              "       [0.00654476],\n",
              "       [0.00587652],\n",
              "       ...,\n",
              "       [0.69382183],\n",
              "       [0.71886089],\n",
              "       [0.6983618 ]])"
            ]
          },
          "metadata": {
            "tags": []
          },
          "execution_count": 9
        }
      ]
    },
    {
      "cell_type": "code",
      "metadata": {
        "id": "9L0e7Oly6tG1",
        "colab_type": "code",
        "colab": {
          "base_uri": "https://localhost:8080/",
          "height": 35
        },
        "outputId": "7d174122-b1a3-42dd-f726-78c72b4e9d31"
      },
      "source": [
        "# Train data와 Test data로 분할\n",
        "\n",
        "train_size = int(len(dataset) * 0.8)\n",
        "test_size = len(dataset) - train_size\n",
        "train, test = dataset[0:train_size,:], dataset[train_size:len(dataset),:]\n",
        "\n",
        "print(len(train), len(test))"
      ],
      "execution_count": null,
      "outputs": [
        {
          "output_type": "stream",
          "text": [
            "1007 252\n"
          ],
          "name": "stdout"
        }
      ]
    },
    {
      "cell_type": "code",
      "metadata": {
        "id": "bnYDfQbq6SBL",
        "colab_type": "code",
        "colab": {}
      },
      "source": [
        "# convert an array of values into a dataset matrix\n",
        "def create_dataset(dataset, look_back=1):\n",
        "\tdataX, dataY = [], []\n",
        "\tfor i in range(len(dataset)-look_back-1):\n",
        "\t\ta = dataset[i:(i+look_back), 0]\n",
        "\t\tdataX.append(a)\n",
        "\t\tdataY.append(dataset[i + look_back, 0])\n",
        "\treturn np.array(dataX), np.array(dataY)\n",
        "\n",
        "# 이 기본값은 X가 주어진 시간 (t)의 승객 수이고 Y가 다음 시간 (t + 1)의 승객 수인 데이터 세트를 생성합니다."
      ],
      "execution_count": null,
      "outputs": []
    },
    {
      "cell_type": "code",
      "metadata": {
        "id": "BngiQ68o62bZ",
        "colab_type": "code",
        "colab": {}
      },
      "source": [
        "look_back = 60 # 60일\n",
        "trainX, trainY = create_dataset(train, look_back)\n",
        "testX, testY = create_dataset(test, look_back)"
      ],
      "execution_count": null,
      "outputs": []
    },
    {
      "cell_type": "code",
      "metadata": {
        "id": "fG_D42wM64oE",
        "colab_type": "code",
        "colab": {
          "base_uri": "https://localhost:8080/",
          "height": 143
        },
        "outputId": "234db0bc-6cf7-40c2-f0fd-be44ae935eaf"
      },
      "source": [
        "print(\"trainX:\", trainX)"
      ],
      "execution_count": null,
      "outputs": [
        {
          "output_type": "stream",
          "text": [
            "trainX: [[0.         0.00654476 0.00587652 ... 0.06089761 0.06784522 0.07314198]\n",
            " [0.00654476 0.00587652 0.00859858 ... 0.06784522 0.07314198 0.07389866]\n",
            " [0.00587652 0.00859858 0.00923733 ... 0.07314198 0.07389866 0.08201572]\n",
            " ...\n",
            " [0.53402576 0.58045809 0.59813682 ... 0.68501689 0.6957479  0.70393377]\n",
            " [0.58045809 0.59813682 0.59600439 ... 0.6957479  0.70393377 0.71597178]\n",
            " [0.59813682 0.59600439 0.60136989 ... 0.70393377 0.71597178 0.71266985]]\n"
          ],
          "name": "stdout"
        }
      ]
    },
    {
      "cell_type": "code",
      "metadata": {
        "id": "gKFE9WVq67w8",
        "colab_type": "code",
        "colab": {
          "base_uri": "https://localhost:8080/",
          "height": 2861
        },
        "outputId": "1e6a2743-b81b-4362-f1cd-aead33facad2"
      },
      "source": [
        "print(\"trainY:\", trainY)"
      ],
      "execution_count": null,
      "outputs": [
        {
          "output_type": "stream",
          "text": [
            "trainY: [0.07389866 0.08201572 0.08593667 0.08999517 0.09632377 0.10340898\n",
            " 0.10430322 0.10237715 0.11269544 0.11015024 0.10739869 0.11131963\n",
            " 0.12005582 0.12143158 0.12170673 0.09247156 0.09212765 0.09556708\n",
            " 0.09405373 0.08669334 0.10320263 0.10870569 0.11971186 0.09900652\n",
            " 0.1091184  0.11365847 0.11613487 0.11276424 0.10450957 0.11524064\n",
            " 0.1038905  0.09027033 0.09109582 0.10595413 0.10444077 0.09536068\n",
            " 0.09653012 0.1000383  0.09646132 0.09185249 0.11097572 0.1051287\n",
            " 0.10953117 0.10306502 0.08641818 0.06977135 0.08318511 0.08882578\n",
            " 0.12115641 0.11991821 0.12844804 0.13601478 0.13374474 0.13752814\n",
            " 0.14612672 0.14825915 0.15548198 0.15692653 0.16476844 0.16297991\n",
            " 0.15954048 0.16057232 0.16242959 0.16022836 0.16490598 0.18155288\n",
            " 0.19083933 0.19854363 0.19627364 0.20659193 0.20294615 0.22083118\n",
            " 0.2162911  0.23156219 0.22378909 0.23293794 0.22977367 0.19324692\n",
            " 0.20872436 0.20886192 0.21037528 0.19737423 0.1704779  0.19950672\n",
            " 0.18471715 0.17233517 0.17398608 0.14420065 0.1493598  0.1820344\n",
            " 0.18471715 0.18402927 0.19138965 0.18691838 0.1836165  0.1952418\n",
            " 0.19420996 0.1885693  0.17873251 0.15740805 0.14537004 0.14991006\n",
            " 0.1638742  0.18753745 0.18705593 0.17900768 0.1625672  0.1691709\n",
            " 0.14874067 0.15431253 0.16194807 0.17095942 0.18499231 0.19489784\n",
            " 0.18581774 0.22165661 0.21264532 0.22695337 0.22454577 0.22764124\n",
            " 0.22764124 0.23809709 0.23809709 0.2279852  0.23912893 0.25701396\n",
            " 0.27964543 0.28803765 0.28948221 0.29044524 0.29629227 0.2972553\n",
            " 0.30688577 0.32697204 0.31747918 0.29842469 0.30674817 0.30158902\n",
            " 0.2995942  0.30055723 0.29698019 0.29574194 0.29271528 0.28205307\n",
            " 0.27063413 0.25384969 0.26822655 0.2646495  0.27854484 0.28611158\n",
            " 0.29814959 0.29471016 0.28693706 0.28769374 0.28294731 0.25694521\n",
            " 0.26939594 0.26581895 0.27985178 0.27111565 0.27256021 0.26870806\n",
            " 0.29051404 0.27820087 0.27820087 0.27888875 0.29553558 0.28611158\n",
            " 0.28205307 0.28115879 0.27613725 0.2762748  0.29367837 0.28604277\n",
            " 0.29505412 0.31011884 0.32263833 0.33742794 0.30784881 0.29739291\n",
            " 0.27992059 0.30330873 0.29402223 0.28308486 0.27077169 0.28391034\n",
            " 0.28879433 0.27648115 0.28026456 0.28893194 0.30035087 0.29560444\n",
            " 0.3114946  0.30674817 0.30722973 0.31775439 0.32463325 0.30908695\n",
            " 0.31954286 0.31520914 0.30867424 0.30578513 0.31128824 0.30385906\n",
            " 0.30330873 0.29918138 0.2840479  0.29244012 0.30110745 0.29429744\n",
            " 0.27992059 0.28631794 0.29106436 0.28769374 0.29099556 0.28948221\n",
            " 0.28941345 0.28755613 0.29890627 0.2907204  0.27551812 0.2762748\n",
            " 0.2854237  0.28219062 0.27194113 0.27847603 0.26877686 0.26444314\n",
            " 0.25130454 0.27256021 0.27950787 0.27730664 0.29120192 0.30041963\n",
            " 0.31342067 0.32635297 0.25164846 0.28060847 0.27455509 0.25921519\n",
            " 0.26121007 0.25962797 0.2539185  0.25584456 0.24827783 0.22021205\n",
            " 0.18946353 0.21023772 0.20067611 0.21408987 0.22289481 0.18657442\n",
            " 0.21071924 0.19888759 0.21071924 0.21340199 0.21113195 0.19723668\n",
            " 0.17212881 0.06509372 0.17680645 0.14915338 0.18451079 0.18409802\n",
            " 0.18313499 0.17020274 0.17075306 0.18629926 0.16208568 0.18120891\n",
            " 0.19503544 0.17102817 0.18148407 0.21443383 0.20996256 0.2121638\n",
            " 0.20810529 0.18437318 0.19441632 0.19242144 0.19414115 0.19152721\n",
            " 0.21347079 0.19565451 0.1886381  0.17034029 0.16277356 0.15548198\n",
            " 0.16834542 0.17350456 0.18114011 0.1704779  0.1691709  0.18795022\n",
            " 0.17481157 0.17804464 0.17556824 0.18141527 0.17467401 0.17838855\n",
            " 0.19668635 0.19895639 0.21525926 0.22475213 0.20631678 0.21684142\n",
            " 0.22901699 0.24476959 0.24346264 0.24339384 0.25949035 0.25068542\n",
            " 0.24559508 0.24456324 0.21663507 0.21298928 0.2122326  0.20494097\n",
            " 0.17866371 0.20301489 0.20879317 0.22172541 0.23245642 0.23293794\n",
            " 0.21959298 0.23252522 0.22619668 0.224133   0.22936095 0.21966173\n",
            " 0.21422748 0.20556009 0.23094311 0.22089993 0.22172541 0.21071924\n",
            " 0.20487221 0.18416682 0.18251591 0.17653128 0.18306618 0.16167297\n",
            " 0.15046039 0.15128587 0.15039158 0.16229204 0.15259281 0.14825915\n",
            " 0.15940293 0.14860311 0.11833611 0.13993573 0.10423442 0.09130217\n",
            " 0.09040794 0.09329705 0.10416566 0.1025835  0.08634938 0.07424257\n",
            " 0.0894449  0.06667582 0.0801584  0.0909582  0.11083812 0.09990075\n",
            " 0.07314198 0.05766453 0.0645434  0.07609989 0.06887706 0.06598795\n",
            " 0.07190378 0.0764438  0.05312446 0.06110397 0.07231649 0.05766453\n",
            " 0.06041609 0.06612551 0.07747564 0.09240276 0.07286681 0.07499925\n",
            " 0.07561837 0.05897153 0.07321078 0.08112143 0.07878264 0.08421695\n",
            " 0.1038905  0.10437202 0.11668519 0.11682274 0.10574777 0.10939357\n",
            " 0.11008149 0.11579091 0.11352092 0.12762256 0.13209383 0.13835357\n",
            " 0.14399423 0.14117393 0.1364963  0.14495732 0.13800966 0.14165545\n",
            " 0.1340199  0.15988445 0.16724483 0.16077868 0.17206001 0.16580027\n",
            " 0.17075306 0.16882694 0.16167297 0.16208568 0.16463082 0.17467401\n",
            " 0.18031468 0.18368531 0.16153536 0.15458769 0.14605791 0.14805279\n",
            " 0.13484539 0.13477658 0.12727865 0.07286681 0.08394179 0.05904029\n",
            " 0.05890273 0.06048484 0.0673637  0.05910909 0.05477543 0.05223023\n",
            " 0.05450026 0.0555321  0.05030415 0.03159364 0.04803411 0.06289248\n",
            " 0.06020973 0.06351155 0.06351155 0.07197258 0.08125904 0.09123337\n",
            " 0.09818103 0.09653012 0.09763071 0.09364096 0.08387298 0.08517999\n",
            " 0.08655574 0.09522312 0.09364096 0.09006397 0.09027033 0.09137097\n",
            " 0.08194691 0.08538635 0.07596228 0.07713173 0.07286681 0.06557523\n",
            " 0.07458653 0.0724541  0.05161115 0.05223023 0.05154235 0.05890273\n",
            " 0.0621358  0.06935858 0.0686707  0.06323639 0.07080314 0.07623744\n",
            " 0.07802596 0.08091507 0.08256604 0.08242843 0.09295308 0.09143973\n",
            " 0.09735555 0.10038227 0.09921288 0.09529192 0.08834426 0.07850748\n",
            " 0.12975499 0.11984946 0.12920472 0.13071808 0.14199941 0.13346959\n",
            " 0.13876634 0.14351272 0.1521113  0.15699533 0.16029716 0.15899016\n",
            " 0.15389982 0.15637621 0.1666257  0.16297991 0.1638742  0.16070988\n",
            " 0.161329   0.15947168 0.15933413 0.15121706 0.15135467 0.14592036\n",
            " 0.1402797  0.13931666 0.14261848 0.15334949 0.1547253  0.15424378\n",
            " 0.15025403 0.13230019 0.11861127 0.15204254 0.16043477 0.19572332\n",
            " 0.2043907  0.20487221 0.19015145 0.19565451 0.19909394 0.19957546\n",
            " 0.18045223 0.18980749 0.19455392 0.19090814 0.1860929  0.18781261\n",
            " 0.19022021 0.19255905 0.19462267 0.19881879 0.20370277 0.22213813\n",
            " 0.21973053 0.21587839 0.22337632 0.21959298 0.22544    0.21904266\n",
            " 0.21635991 0.21601595 0.21801082 0.22385784 0.19881879 0.20624797\n",
            " 0.19579212 0.19427877 0.19297176 0.17880132 0.17591221 0.15905896\n",
            " 0.16972122 0.17130333 0.16834542 0.17666883 0.1493598  0.1534183\n",
            " 0.1455764  0.14647063 0.1678639  0.16724483 0.16999639 0.18258466\n",
            " 0.17852616 0.176944   0.17900768 0.17453641 0.18017707 0.1717161\n",
            " 0.16346143 0.1691709  0.16573147 0.16408056 0.17508673 0.18506106\n",
            " 0.19180237 0.19558571 0.20384038 0.20617916 0.21367715 0.20906833\n",
            " 0.21553443 0.21594719 0.21285167 0.20762372 0.21402107 0.22089993\n",
            " 0.21353955 0.21491536 0.20906833 0.20941224 0.20989376 0.21580959\n",
            " 0.22385784 0.22949851 0.22929215 0.2303928  0.23183735 0.22654059\n",
            " 0.23795953 0.23383223 0.241055   0.23795953 0.23486407 0.24084864\n",
            " 0.24944722 0.25268029 0.24435688 0.24587024 0.28631794 0.29285288\n",
            " 0.29512287 0.30076359 0.3104627  0.31603467 0.31809825 0.32367022\n",
            " 0.32793508 0.33061783 0.34471952 0.34575131 0.34183041 0.34960346\n",
            " 0.35097921 0.35751421 0.34740228 0.35586324 0.35545053 0.36102239\n",
            " 0.3755368  0.36714458 0.37120308 0.36907065 0.36831397 0.36686947\n",
            " 0.37037765 0.36762615 0.37072162 0.3714783  0.38048959 0.38241566\n",
            " 0.3782883  0.39005121 0.37450501 0.38420413 0.38585509 0.37134069\n",
            " 0.38179659 0.40085097 0.40435925 0.40112618 0.40105743 0.3978931\n",
            " 0.40456561 0.40504707 0.40119493 0.40030075 0.39576067 0.38654302\n",
            " 0.38867546 0.38571749 0.38523602 0.3884691  0.38392902 0.39232124\n",
            " 0.39961282 0.40243318 0.40628532 0.40250193 0.40367132 0.41061904\n",
            " 0.42740338 0.41398962 0.42038702 0.42203788 0.43765293 0.4709466\n",
            " 0.46929574 0.46117863 0.47665607 0.48566737 0.48518589 0.46908938\n",
            " 0.45306162 0.46757602 0.47184088 0.47803182 0.47074024 0.46998356\n",
            " 0.47184088 0.46785113 0.47163453 0.46613141 0.46895178 0.47417967\n",
            " 0.47115296 0.47885735 0.48043946 0.48002675 0.41502151 0.42478949\n",
            " 0.42712827 0.39837467 0.4015389  0.40071347 0.42279456 0.41350815\n",
            " 0.41522787 0.4108254  0.42485823 0.40999987 0.40642293 0.40793629\n",
            " 0.40614772 0.40910569 0.40091982 0.39631099 0.39548546 0.40380893\n",
            " 0.40807379 0.41591569 0.41337055 0.43036135 0.43620842 0.43882232\n",
            " 0.44762726 0.45464373 0.44425668 0.44831519 0.45670741 0.46736966\n",
            " 0.47012117 0.44356875 0.4436375  0.4381345  0.50816128 0.49282144\n",
            " 0.48608018 0.49289019 0.5034837  0.50802367 0.51242614 0.48972597\n",
            " 0.50843649 0.51765414 0.52645907 0.5166911  0.4983933  0.49591691\n",
            " 0.50093845 0.50671677 0.51607193 0.51070642 0.5140771  0.51380199\n",
            " 0.53925377 0.53815312 0.54613263 0.5389098  0.53175583 0.52749086\n",
            " 0.51902989 0.5165535  0.5310679  0.51221978 0.50616645 0.50258941\n",
            " 0.51387075 0.50974339 0.49866841 0.48422286 0.45491883 0.44425668\n",
            " 0.4565698  0.47046513 0.4710842  0.46640663 0.47362935 0.47190964\n",
            " 0.46929574 0.47307903 0.47851339 0.48429161 0.48601133 0.48539225\n",
            " 0.48800625 0.49062015 0.49866841 0.51160071 0.51600317 0.49075776\n",
            " 0.48979472 0.49172079 0.48759343 0.4918584  0.49405959 0.50823002\n",
            " 0.53987284 0.56745704 0.58100841 0.5585146  0.60941815 0.59820557\n",
            " 0.60879908 0.61395823 0.6170537  0.6170537  0.60597872 0.60281439\n",
            " 0.58169634 0.59001971 0.58905667 0.58389752 0.5872682  0.60501568\n",
            " 0.61698494 0.61664098 0.61148183 0.59999414 0.58486056 0.58155873\n",
            " 0.59896225 0.57543655 0.56470554 0.57523019 0.58527337 0.57639959\n",
            " 0.59669221 0.59909986 0.59841193 0.60687301 0.61547158 0.61650337\n",
            " 0.61540273 0.61058754 0.61409573 0.58740581 0.58259062 0.58878156\n",
            " 0.58547973 0.58300334 0.59930621 0.59937496 0.605566   0.61182579\n",
            " 0.61320155 0.60363993 0.61347665 0.62441402 0.63624568 0.62420767\n",
            " 0.64635761 0.64112972 0.63211842 0.63211842 0.63177446 0.61292634\n",
            " 0.59566042 0.58300334 0.55115417 0.56037182 0.5624355  0.55438724\n",
            " 0.50692313 0.47755036 0.53436972 0.51510889 0.49295904 0.50279577\n",
            " 0.52652783 0.53402576 0.58045809 0.59813682 0.59600439 0.60136989\n",
            " 0.59428467 0.60714811 0.62558352 0.64450039 0.64560094 0.64064814\n",
            " 0.60116353 0.61774162 0.63631453 0.6158843  0.61959884 0.6366585\n",
            " 0.65268615 0.66850756 0.65289261 0.64037303 0.64140482 0.63225602\n",
            " 0.61794798 0.61657212 0.5819027  0.57082772 0.56862654 0.60721687\n",
            " 0.56298582 0.56683797 0.55878971 0.56566857 0.54668295 0.59965018\n",
            " 0.5885752  0.58107727 0.60253929 0.59724253 0.60535965 0.61478366\n",
            " 0.61650337 0.62654655 0.63562661 0.60776719 0.58603006 0.56009671\n",
            " 0.55211721 0.53113665 0.54145495 0.54062952 0.52776608 0.55720761\n",
            " 0.61787912 0.62235045 0.63865332 0.68632379 0.68501689 0.6957479\n",
            " 0.70393377 0.71597178 0.71266985 0.69733002]\n"
          ],
          "name": "stdout"
        }
      ]
    },
    {
      "cell_type": "code",
      "metadata": {
        "id": "2QtS1VzF7P9f",
        "colab_type": "code",
        "colab": {}
      },
      "source": [
        "# 3차원으로 변환\n",
        "# 데이터 세트의 레코드 수 또는 행의 수(1259), 시간 단계 수(60), 특징 수(1)\n",
        "\n",
        "# reshape input to be [samples, time steps, features]\n",
        "trainX = np.reshape(trainX, (trainX.shape[0], trainX.shape[1], 1)) \n",
        "testX = np.reshape(testX, (testX.shape[0], testX.shape[1], 1))"
      ],
      "execution_count": null,
      "outputs": []
    },
    {
      "cell_type": "markdown",
      "metadata": {
        "id": "hZ4XyELj766W",
        "colab_type": "text"
      },
      "source": [
        "### LSTM"
      ]
    },
    {
      "cell_type": "code",
      "metadata": {
        "id": "UqNTPATl8DoH",
        "colab_type": "code",
        "colab": {
          "base_uri": "https://localhost:8080/",
          "height": 35
        },
        "outputId": "29aef3fd-7142-4ae3-eaa8-ce86aab7f008"
      },
      "source": [
        "from keras.models import Sequential  \n",
        "from keras.layers import Dense  \n",
        "from keras.layers import LSTM  \n",
        "from keras.layers import Dropout\n",
        "import math\n",
        "from sklearn.metrics import mean_squared_error"
      ],
      "execution_count": null,
      "outputs": [
        {
          "output_type": "stream",
          "text": [
            "Using TensorFlow backend.\n"
          ],
          "name": "stderr"
        }
      ]
    },
    {
      "cell_type": "code",
      "metadata": {
        "id": "0B2EjLKs8IOc",
        "colab_type": "code",
        "colab": {
          "base_uri": "https://localhost:8080/",
          "height": 91
        },
        "outputId": "751fe306-7b1c-440b-9cce-54c3187d9602"
      },
      "source": [
        "model = Sequential() #순차모델 이용\n",
        "\n",
        "model.add(LSTM(units=50, input_shape=(trainX.shape[1], 1))) \n",
        "\n",
        "model.add(Dense(units = 1)) #입력받을 크기 Dense => 노드끼리 서로 모두 연결되어 있다.\n",
        "model.compile(optimizer = 'adam', loss = 'mean_squared_error')  #training을 위해 모델 환경을 만든다."
      ],
      "execution_count": null,
      "outputs": [
        {
          "output_type": "stream",
          "text": [
            "WARNING:tensorflow:From /usr/local/lib/python3.6/dist-packages/tensorflow/python/framework/op_def_library.py:263: colocate_with (from tensorflow.python.framework.ops) is deprecated and will be removed in a future version.\n",
            "Instructions for updating:\n",
            "Colocations handled automatically by placer.\n"
          ],
          "name": "stdout"
        }
      ]
    },
    {
      "cell_type": "code",
      "metadata": {
        "id": "O1JhM-wd8T0i",
        "colab_type": "code",
        "colab": {
          "base_uri": "https://localhost:8080/",
          "height": 215
        },
        "outputId": "cab01ee9-ebc0-4a2e-d190-4bf5dafe28e4"
      },
      "source": [
        "model.summary()"
      ],
      "execution_count": null,
      "outputs": [
        {
          "output_type": "stream",
          "text": [
            "_________________________________________________________________\n",
            "Layer (type)                 Output Shape              Param #   \n",
            "=================================================================\n",
            "lstm_1 (LSTM)                (None, 50)                10400     \n",
            "_________________________________________________________________\n",
            "dense_1 (Dense)              (None, 1)                 51        \n",
            "=================================================================\n",
            "Total params: 10,451\n",
            "Trainable params: 10,451\n",
            "Non-trainable params: 0\n",
            "_________________________________________________________________\n"
          ],
          "name": "stdout"
        }
      ]
    },
    {
      "cell_type": "code",
      "metadata": {
        "id": "LSIfkQCx8bjj",
        "colab_type": "code",
        "colab": {
          "base_uri": "https://localhost:8080/",
          "height": 3709
        },
        "outputId": "d52f472c-f8ca-4505-836c-941811831bc2"
      },
      "source": [
        "# 모델 훈련\n",
        "model.fit(trainX, trainY, epochs = 100, batch_size = 32)  "
      ],
      "execution_count": null,
      "outputs": [
        {
          "output_type": "stream",
          "text": [
            "WARNING:tensorflow:From /usr/local/lib/python3.6/dist-packages/tensorflow/python/ops/math_ops.py:3066: to_int32 (from tensorflow.python.ops.math_ops) is deprecated and will be removed in a future version.\n",
            "Instructions for updating:\n",
            "Use tf.cast instead.\n",
            "Epoch 1/100\n",
            "946/946 [==============================] - 4s 4ms/step - loss: 0.0173\n",
            "Epoch 2/100\n",
            "946/946 [==============================] - 3s 3ms/step - loss: 0.0017\n",
            "Epoch 3/100\n",
            "946/946 [==============================] - 3s 3ms/step - loss: 7.4677e-04\n",
            "Epoch 4/100\n",
            "946/946 [==============================] - 3s 3ms/step - loss: 7.1405e-04\n",
            "Epoch 5/100\n",
            "946/946 [==============================] - 3s 3ms/step - loss: 6.8959e-04\n",
            "Epoch 6/100\n",
            "946/946 [==============================] - 3s 3ms/step - loss: 6.7608e-04\n",
            "Epoch 7/100\n",
            "946/946 [==============================] - 3s 3ms/step - loss: 6.6061e-04\n",
            "Epoch 8/100\n",
            "946/946 [==============================] - 3s 3ms/step - loss: 6.5681e-04\n",
            "Epoch 9/100\n",
            "946/946 [==============================] - 3s 3ms/step - loss: 6.6257e-04\n",
            "Epoch 10/100\n",
            "946/946 [==============================] - 3s 3ms/step - loss: 6.2877e-04\n",
            "Epoch 11/100\n",
            "946/946 [==============================] - 3s 3ms/step - loss: 6.1067e-04\n",
            "Epoch 12/100\n",
            "946/946 [==============================] - 3s 3ms/step - loss: 5.8542e-04\n",
            "Epoch 13/100\n",
            "946/946 [==============================] - 3s 3ms/step - loss: 5.6952e-04\n",
            "Epoch 14/100\n",
            "946/946 [==============================] - 3s 3ms/step - loss: 5.5574e-04\n",
            "Epoch 15/100\n",
            "946/946 [==============================] - 3s 3ms/step - loss: 5.4743e-04\n",
            "Epoch 16/100\n",
            "946/946 [==============================] - 3s 3ms/step - loss: 5.4980e-04\n",
            "Epoch 17/100\n",
            "946/946 [==============================] - 3s 3ms/step - loss: 5.2340e-04\n",
            "Epoch 18/100\n",
            "946/946 [==============================] - 3s 3ms/step - loss: 5.2489e-04\n",
            "Epoch 19/100\n",
            "946/946 [==============================] - 3s 3ms/step - loss: 5.3702e-04\n",
            "Epoch 20/100\n",
            "946/946 [==============================] - 3s 3ms/step - loss: 5.0565e-04\n",
            "Epoch 21/100\n",
            "946/946 [==============================] - 3s 3ms/step - loss: 4.8161e-04\n",
            "Epoch 22/100\n",
            "946/946 [==============================] - 3s 3ms/step - loss: 4.7671e-04\n",
            "Epoch 23/100\n",
            "946/946 [==============================] - 3s 3ms/step - loss: 4.7516e-04\n",
            "Epoch 24/100\n",
            "946/946 [==============================] - 3s 3ms/step - loss: 4.6990e-04\n",
            "Epoch 25/100\n",
            "946/946 [==============================] - 3s 3ms/step - loss: 4.6489e-04\n",
            "Epoch 26/100\n",
            "946/946 [==============================] - 3s 3ms/step - loss: 4.4497e-04\n",
            "Epoch 27/100\n",
            "946/946 [==============================] - 3s 3ms/step - loss: 4.5483e-04\n",
            "Epoch 28/100\n",
            "946/946 [==============================] - 3s 3ms/step - loss: 4.4228e-04\n",
            "Epoch 29/100\n",
            "946/946 [==============================] - 3s 3ms/step - loss: 4.3379e-04\n",
            "Epoch 30/100\n",
            "946/946 [==============================] - 3s 3ms/step - loss: 4.2981e-04\n",
            "Epoch 31/100\n",
            "946/946 [==============================] - 3s 3ms/step - loss: 4.2658e-04\n",
            "Epoch 32/100\n",
            "946/946 [==============================] - 3s 3ms/step - loss: 4.0613e-04\n",
            "Epoch 33/100\n",
            "946/946 [==============================] - 3s 3ms/step - loss: 3.9874e-04\n",
            "Epoch 34/100\n",
            "946/946 [==============================] - 3s 3ms/step - loss: 3.8149e-04\n",
            "Epoch 35/100\n",
            "946/946 [==============================] - 3s 3ms/step - loss: 3.7995e-04\n",
            "Epoch 36/100\n",
            "946/946 [==============================] - 3s 3ms/step - loss: 3.9808e-04\n",
            "Epoch 37/100\n",
            "946/946 [==============================] - 3s 3ms/step - loss: 3.8304e-04\n",
            "Epoch 38/100\n",
            "946/946 [==============================] - 3s 3ms/step - loss: 3.7105e-04\n",
            "Epoch 39/100\n",
            "946/946 [==============================] - 3s 3ms/step - loss: 3.6878e-04\n",
            "Epoch 40/100\n",
            "946/946 [==============================] - 3s 3ms/step - loss: 3.6274e-04\n",
            "Epoch 41/100\n",
            "946/946 [==============================] - 3s 3ms/step - loss: 3.5919e-04\n",
            "Epoch 42/100\n",
            "946/946 [==============================] - 3s 3ms/step - loss: 3.7173e-04\n",
            "Epoch 43/100\n",
            "946/946 [==============================] - 3s 3ms/step - loss: 3.6352e-04\n",
            "Epoch 44/100\n",
            "946/946 [==============================] - 3s 3ms/step - loss: 3.3345e-04\n",
            "Epoch 45/100\n",
            "946/946 [==============================] - 3s 3ms/step - loss: 3.2810e-04\n",
            "Epoch 46/100\n",
            "946/946 [==============================] - 3s 3ms/step - loss: 3.2627e-04\n",
            "Epoch 47/100\n",
            "946/946 [==============================] - 3s 3ms/step - loss: 3.2233e-04\n",
            "Epoch 48/100\n",
            "946/946 [==============================] - 3s 3ms/step - loss: 3.2048e-04\n",
            "Epoch 49/100\n",
            "946/946 [==============================] - 3s 3ms/step - loss: 3.2828e-04\n",
            "Epoch 50/100\n",
            "946/946 [==============================] - 3s 3ms/step - loss: 3.1472e-04\n",
            "Epoch 51/100\n",
            "946/946 [==============================] - 3s 3ms/step - loss: 3.1371e-04\n",
            "Epoch 52/100\n",
            "946/946 [==============================] - 3s 3ms/step - loss: 3.3219e-04\n",
            "Epoch 53/100\n",
            "946/946 [==============================] - 3s 3ms/step - loss: 3.2591e-04\n",
            "Epoch 54/100\n",
            "946/946 [==============================] - 3s 3ms/step - loss: 3.1689e-04\n",
            "Epoch 55/100\n",
            "946/946 [==============================] - 3s 3ms/step - loss: 3.1762e-04\n",
            "Epoch 56/100\n",
            "946/946 [==============================] - 3s 3ms/step - loss: 3.1219e-04\n",
            "Epoch 57/100\n",
            "946/946 [==============================] - 3s 3ms/step - loss: 2.8197e-04\n",
            "Epoch 58/100\n",
            "946/946 [==============================] - 3s 3ms/step - loss: 2.7945e-04\n",
            "Epoch 59/100\n",
            "946/946 [==============================] - 3s 3ms/step - loss: 3.0168e-04\n",
            "Epoch 60/100\n",
            "946/946 [==============================] - 3s 3ms/step - loss: 2.9185e-04\n",
            "Epoch 61/100\n",
            "946/946 [==============================] - 3s 3ms/step - loss: 2.8685e-04\n",
            "Epoch 62/100\n",
            "946/946 [==============================] - 3s 3ms/step - loss: 2.8551e-04\n",
            "Epoch 63/100\n",
            "946/946 [==============================] - 3s 3ms/step - loss: 2.7750e-04\n",
            "Epoch 64/100\n",
            "946/946 [==============================] - 3s 3ms/step - loss: 2.7769e-04\n",
            "Epoch 65/100\n",
            "946/946 [==============================] - 3s 3ms/step - loss: 2.8051e-04\n",
            "Epoch 66/100\n",
            "946/946 [==============================] - 3s 3ms/step - loss: 2.7417e-04\n",
            "Epoch 67/100\n",
            "946/946 [==============================] - 3s 3ms/step - loss: 2.6796e-04\n",
            "Epoch 68/100\n",
            "946/946 [==============================] - 3s 3ms/step - loss: 2.6583e-04\n",
            "Epoch 69/100\n",
            "946/946 [==============================] - 3s 3ms/step - loss: 2.6670e-04\n",
            "Epoch 70/100\n",
            "946/946 [==============================] - 3s 3ms/step - loss: 2.7383e-04\n",
            "Epoch 71/100\n",
            "946/946 [==============================] - 3s 3ms/step - loss: 2.6937e-04\n",
            "Epoch 72/100\n",
            "946/946 [==============================] - 3s 3ms/step - loss: 2.6430e-04\n",
            "Epoch 73/100\n",
            "946/946 [==============================] - 3s 3ms/step - loss: 2.6449e-04\n",
            "Epoch 74/100\n",
            "946/946 [==============================] - 3s 3ms/step - loss: 2.8718e-04\n",
            "Epoch 75/100\n",
            "946/946 [==============================] - 3s 3ms/step - loss: 2.9025e-04\n",
            "Epoch 76/100\n",
            "946/946 [==============================] - 3s 3ms/step - loss: 2.7919e-04\n",
            "Epoch 77/100\n",
            "946/946 [==============================] - 3s 3ms/step - loss: 2.7524e-04\n",
            "Epoch 78/100\n",
            "946/946 [==============================] - 3s 3ms/step - loss: 2.5918e-04\n",
            "Epoch 79/100\n",
            "946/946 [==============================] - 3s 3ms/step - loss: 2.5735e-04\n",
            "Epoch 80/100\n",
            "946/946 [==============================] - 3s 3ms/step - loss: 2.6748e-04\n",
            "Epoch 81/100\n",
            "946/946 [==============================] - 3s 3ms/step - loss: 2.5567e-04\n",
            "Epoch 82/100\n",
            "946/946 [==============================] - 3s 3ms/step - loss: 2.5300e-04\n",
            "Epoch 83/100\n",
            "946/946 [==============================] - 3s 3ms/step - loss: 2.5412e-04\n",
            "Epoch 84/100\n",
            "946/946 [==============================] - 3s 3ms/step - loss: 2.5103e-04\n",
            "Epoch 85/100\n",
            "946/946 [==============================] - 3s 3ms/step - loss: 2.4638e-04\n",
            "Epoch 86/100\n",
            "946/946 [==============================] - 3s 3ms/step - loss: 2.5868e-04\n",
            "Epoch 87/100\n",
            "946/946 [==============================] - 3s 3ms/step - loss: 2.5799e-04\n",
            "Epoch 88/100\n",
            "946/946 [==============================] - 3s 3ms/step - loss: 2.5340e-04\n",
            "Epoch 89/100\n",
            "946/946 [==============================] - 3s 3ms/step - loss: 2.5383e-04\n",
            "Epoch 90/100\n",
            "946/946 [==============================] - 3s 3ms/step - loss: 2.4855e-04\n",
            "Epoch 91/100\n",
            "946/946 [==============================] - 3s 3ms/step - loss: 2.4349e-04\n",
            "Epoch 92/100\n",
            "946/946 [==============================] - 3s 3ms/step - loss: 2.5569e-04\n",
            "Epoch 93/100\n",
            "946/946 [==============================] - 3s 3ms/step - loss: 2.6739e-04\n",
            "Epoch 94/100\n",
            "946/946 [==============================] - 3s 3ms/step - loss: 2.4329e-04\n",
            "Epoch 95/100\n",
            "946/946 [==============================] - 3s 3ms/step - loss: 2.5401e-04\n",
            "Epoch 96/100\n",
            "946/946 [==============================] - 3s 3ms/step - loss: 2.4281e-04\n",
            "Epoch 97/100\n",
            "946/946 [==============================] - 3s 3ms/step - loss: 2.3467e-04\n",
            "Epoch 98/100\n",
            "946/946 [==============================] - 3s 3ms/step - loss: 2.7920e-04\n",
            "Epoch 99/100\n",
            "946/946 [==============================] - 3s 3ms/step - loss: 2.6111e-04\n",
            "Epoch 100/100\n",
            "946/946 [==============================] - 3s 3ms/step - loss: 2.4963e-04\n"
          ],
          "name": "stdout"
        },
        {
          "output_type": "execute_result",
          "data": {
            "text/plain": [
              "<keras.callbacks.History at 0x7f7b84428f28>"
            ]
          },
          "metadata": {
            "tags": []
          },
          "execution_count": 19
        }
      ]
    },
    {
      "cell_type": "code",
      "metadata": {
        "id": "DmecI8trBWwh",
        "colab_type": "code",
        "colab": {
          "base_uri": "https://localhost:8080/",
          "height": 287
        },
        "outputId": "cf61b07a-6419-4f31-8aa2-231644c28da4"
      },
      "source": [
        "plt.plot(model.history.history['loss'])\n",
        "plt.show"
      ],
      "execution_count": null,
      "outputs": [
        {
          "output_type": "execute_result",
          "data": {
            "text/plain": [
              "<function matplotlib.pyplot.show>"
            ]
          },
          "metadata": {
            "tags": []
          },
          "execution_count": 20
        },
        {
          "output_type": "display_data",
          "data": {
            "image/png": "[encoded data removed]",
            "text/plain": [
              "<Figure size 432x288 with 1 Axes>"
            ]
          },
          "metadata": {
            "tags": []
          }
        }
      ]
    },
    {
      "cell_type": "code",
      "metadata": {
        "id": "DhC10dEV8fLG",
        "colab_type": "code",
        "colab": {
          "base_uri": "https://localhost:8080/",
          "height": 53
        },
        "outputId": "e8ee2e7f-1cb3-4435-f056-5905b8badfd7"
      },
      "source": [
        "# 모델 적용\n",
        "trainPredict = model.predict(trainX)\n",
        "testPredict = model.predict(testX)\n",
        "\n",
        "# 예측 결과에 적용할 수 있도록 역변환\n",
        "trainPredict = scaler.inverse_transform(trainPredict) \n",
        "trainY = scaler.inverse_transform([trainY])\n",
        "\n",
        "testPredict = scaler.inverse_transform(testPredict)\n",
        "testY = scaler.inverse_transform([testY])\n",
        "\n",
        "# Root MSE 계산\n",
        "trainScore = math.sqrt(mean_squared_error(trainY[0], trainPredict[:,0]))\n",
        "print('Train Score: %.2f RMSE' % (trainScore))\n",
        "\n",
        "testScore = math.sqrt(mean_squared_error(testY[0], testPredict[:,0]))\n",
        "print('Test Score: %.2f RMSE' % (testScore))\n",
        "\n",
        "#RMSE값은 작을수록 정밀도가 높은거"
      ],
      "execution_count": null,
      "outputs": [
        {
          "output_type": "stream",
          "text": [
            "Train Score: 2.26 RMSE\n",
            "Test Score: 5.62 RMSE\n"
          ],
          "name": "stdout"
        }
      ]
    },
    {
      "cell_type": "code",
      "metadata": {
        "id": "AYXj3t8U8fwM",
        "colab_type": "code",
        "colab": {
          "base_uri": "https://localhost:8080/",
          "height": 370
        },
        "outputId": "37968002-0209-4cbe-d5c1-6c2ce6ffe624"
      },
      "source": [
        "# 원본 데이터 세트가 파란색으로 표시\n",
        "# 훈련 데이터 세트의 예상은 녹색으로 표시\n",
        "# 보이지 않는 테스트 데이터 세트의 예측은 빨간색으로 표시\n",
        "\n",
        "# shift train predictions for plotting\n",
        "trainPredictPlot = np.empty_like(dataset)\n",
        "trainPredictPlot[:, :] = np.nan\n",
        "trainPredictPlot[look_back:len(trainPredict)+look_back, :] = trainPredict\n",
        "\n",
        "# shift test predictions for plotting\n",
        "testPredictPlot = np.empty_like(dataset)\n",
        "testPredictPlot[:, :] = np.nan\n",
        "testPredictPlot[len(trainPredict)+(look_back*2)+1:len(dataset)-1, :] = testPredict\n",
        "\n",
        "# plot baseline and predictions\n",
        "plt.figure(figsize = (15, 5))\n",
        "plt.title(\"Monthly Total Airline Passengers 1949 - 1960\")\n",
        "plt.ylabel(\"Airline Passengers\")\n",
        "plt.xlabel(\"Months\")\n",
        "plt.plot(scaler.inverse_transform(dataset),color='blue')\n",
        "plt.plot(trainPredictPlot,color='green')\n",
        "plt.plot(testPredictPlot,color='red')\n",
        "\n",
        "plt.show()"
      ],
      "execution_count": null,
      "outputs": [
        {
          "output_type": "display_data",
          "data": {
            "image/png": "[encoded data removed]",
            "text/plain": [
              "<Figure size 1080x360 with 1 Axes>"
            ]
          },
          "metadata": {
            "tags": []
          }
        }
      ]
    },
    {
      "cell_type": "markdown",
      "metadata": {
        "id": "mVKi_h8YKAUc",
        "colab_type": "text"
      },
      "source": [
        "## Simple LSTM + Dropout"
      ]
    },
    {
      "cell_type": "markdown",
      "metadata": {
        "id": "AU_831dgKJ2-",
        "colab_type": "text"
      },
      "source": [
        "### Data"
      ]
    },
    {
      "cell_type": "code",
      "metadata": {
        "id": "B_rbfJkiKFDE",
        "colab_type": "code",
        "colab": {}
      },
      "source": [
        "# 같은 결과를 나오게 하기 위해 seed 설정\n",
        "np.random.seed(2017010794)"
      ],
      "execution_count": null,
      "outputs": []
    },
    {
      "cell_type": "code",
      "metadata": {
        "id": "s0_6aZEoKU7h",
        "colab_type": "code",
        "colab": {}
      },
      "source": [
        "# 데이터 불러오기\n",
        "dataset = pd.read_csv(r'./gdrive/My Drive/apple.csv')  "
      ],
      "execution_count": null,
      "outputs": []
    },
    {
      "cell_type": "code",
      "metadata": {
        "id": "G-7UPhX0KVAY",
        "colab_type": "code",
        "colab": {}
      },
      "source": [
        "# 필요한 open열의 데이터만 불러오기(주식의 개시 가격)\n",
        "dataset = dataset.iloc[:, 1:2].values  "
      ],
      "execution_count": null,
      "outputs": []
    },
    {
      "cell_type": "code",
      "metadata": {
        "id": "g4SVLmFmKU-C",
        "colab_type": "code",
        "colab": {
          "base_uri": "https://localhost:8080/",
          "height": 343
        },
        "outputId": "5153a4a2-5bb5-4ea2-a37d-04b045a5c6a4"
      },
      "source": [
        "# 원본 데이터 보기\n",
        "plt.figure(figsize = (15, 5))\n",
        "plt.plot(dataset)\n",
        "plt.show()"
      ],
      "execution_count": null,
      "outputs": [
        {
          "output_type": "display_data",
          "data": {
            "image/png": "[encoded data removed]",
            "text/plain": [
              "<Figure size 1080x360 with 1 Axes>"
            ]
          },
          "metadata": {
            "tags": []
          }
        }
      ]
    },
    {
      "cell_type": "code",
      "metadata": {
        "id": "B6eysg0lKU3H",
        "colab_type": "code",
        "colab": {}
      },
      "source": [
        "# scikit-learn 라이브러리 의 MinMaxScaler 전처리 클래스를 사용하여 데이터 세트를 쉽게 정규화.\n",
        "# MinMaxScaler : 모든 특성들이 0 과 1 사이에 위치하도록 데이터를 비례적으로 조정\n",
        "\n",
        "scaler = MinMaxScaler(feature_range=(0, 1))\n",
        "dataset = scaler.fit_transform(dataset)"
      ],
      "execution_count": null,
      "outputs": []
    },
    {
      "cell_type": "code",
      "metadata": {
        "id": "bJUm9jSMKefd",
        "colab_type": "code",
        "colab": {
          "base_uri": "https://localhost:8080/",
          "height": 35
        },
        "outputId": "700cdee6-788f-4874-fe52-4fda6a797998"
      },
      "source": [
        "# Train data와 Test data로 분할\n",
        "\n",
        "train_size = int(len(dataset) * 0.8)\n",
        "test_size = len(dataset) - train_size\n",
        "train, test = dataset[0:train_size,:], dataset[train_size:len(dataset),:]\n",
        "\n",
        "print(len(train), len(test))"
      ],
      "execution_count": null,
      "outputs": [
        {
          "output_type": "stream",
          "text": [
            "1007 252\n"
          ],
          "name": "stdout"
        }
      ]
    },
    {
      "cell_type": "code",
      "metadata": {
        "id": "YWjonNU6Kea9",
        "colab_type": "code",
        "colab": {}
      },
      "source": [
        "look_back = 60 # 60일\n",
        "trainX, trainY = create_dataset(train, look_back)\n",
        "testX, testY = create_dataset(test, look_back)"
      ],
      "execution_count": null,
      "outputs": []
    },
    {
      "cell_type": "code",
      "metadata": {
        "id": "UfLkaE9zKeYi",
        "colab_type": "code",
        "colab": {}
      },
      "source": [
        "# 3차원으로 변환\n",
        "# 데이터 세트의 레코드 수 또는 행의 수(1259), 시간 단계 수(60), 특징 수(1)\n",
        "\n",
        "# reshape input to be [samples, time steps, features]\n",
        "trainX = np.reshape(trainX, (trainX.shape[0], trainX.shape[1], 1)) \n",
        "testX = np.reshape(testX, (testX.shape[0], testX.shape[1], 1))"
      ],
      "execution_count": null,
      "outputs": []
    },
    {
      "cell_type": "markdown",
      "metadata": {
        "id": "Yv4DwLu4KK_1",
        "colab_type": "text"
      },
      "source": [
        "###LSTM"
      ]
    },
    {
      "cell_type": "code",
      "metadata": {
        "id": "aH-Nc5_LKvqA",
        "colab_type": "code",
        "colab": {
          "base_uri": "https://localhost:8080/",
          "height": 91
        },
        "outputId": "9aa7116b-1652-4cd9-d806-676f8da257ea"
      },
      "source": [
        "model = Sequential() #순차모델 이용\n",
        "\n",
        "model.add(LSTM(units=50, input_shape=(trainX.shape[1], 1))) \n",
        "model.add(Dropout(0.2))\n",
        "\n",
        "model.add(Dense(units = 1)) #입력받을 크기 Dense => 노드끼리 서로 모두 연결되어 있다.\n",
        "model.compile(optimizer = 'adam', loss = 'mean_squared_error')  #training을 위해 모델 환경을 만든다."
      ],
      "execution_count": null,
      "outputs": [
        {
          "output_type": "stream",
          "text": [
            "WARNING:tensorflow:From /usr/local/lib/python3.6/dist-packages/keras/backend/tensorflow_backend.py:3445: calling dropout (from tensorflow.python.ops.nn_ops) with keep_prob is deprecated and will be removed in a future version.\n",
            "Instructions for updating:\n",
            "Please use `rate` instead of `keep_prob`. Rate should be set to `rate = 1 - keep_prob`.\n"
          ],
          "name": "stdout"
        }
      ]
    },
    {
      "cell_type": "code",
      "metadata": {
        "id": "5frLRHSkKvm9",
        "colab_type": "code",
        "colab": {
          "base_uri": "https://localhost:8080/",
          "height": 251
        },
        "outputId": "94e3518e-7add-4d0b-e798-9e1d23be66d8"
      },
      "source": [
        "model.summary()"
      ],
      "execution_count": null,
      "outputs": [
        {
          "output_type": "stream",
          "text": [
            "_________________________________________________________________\n",
            "Layer (type)                 Output Shape              Param #   \n",
            "=================================================================\n",
            "lstm_2 (LSTM)                (None, 50)                10400     \n",
            "_________________________________________________________________\n",
            "dropout_1 (Dropout)          (None, 50)                0         \n",
            "_________________________________________________________________\n",
            "dense_2 (Dense)              (None, 1)                 51        \n",
            "=================================================================\n",
            "Total params: 10,451\n",
            "Trainable params: 10,451\n",
            "Non-trainable params: 0\n",
            "_________________________________________________________________\n"
          ],
          "name": "stdout"
        }
      ]
    },
    {
      "cell_type": "code",
      "metadata": {
        "id": "wUSsf5jTKvk0",
        "colab_type": "code",
        "colab": {
          "base_uri": "https://localhost:8080/",
          "height": 3635
        },
        "outputId": "0b37fc3f-e760-4a52-d636-d4e02b74d356"
      },
      "source": [
        "# 모델 훈련\n",
        "model.fit(trainX, trainY, epochs = 100, batch_size = 32)  "
      ],
      "execution_count": null,
      "outputs": [
        {
          "output_type": "stream",
          "text": [
            "Epoch 1/100\n",
            "946/946 [==============================] - 3s 3ms/step - loss: 0.0250\n",
            "Epoch 2/100\n",
            "946/946 [==============================] - 3s 3ms/step - loss: 0.0038\n",
            "Epoch 3/100\n",
            "946/946 [==============================] - 3s 3ms/step - loss: 0.0021\n",
            "Epoch 4/100\n",
            "946/946 [==============================] - 3s 3ms/step - loss: 0.0019\n",
            "Epoch 5/100\n",
            "946/946 [==============================] - 3s 3ms/step - loss: 0.0017\n",
            "Epoch 6/100\n",
            "946/946 [==============================] - 3s 3ms/step - loss: 0.0016\n",
            "Epoch 7/100\n",
            "946/946 [==============================] - 3s 3ms/step - loss: 0.0016\n",
            "Epoch 8/100\n",
            "946/946 [==============================] - 3s 3ms/step - loss: 0.0016\n",
            "Epoch 9/100\n",
            "946/946 [==============================] - 3s 3ms/step - loss: 0.0014\n",
            "Epoch 10/100\n",
            "946/946 [==============================] - 3s 3ms/step - loss: 0.0014\n",
            "Epoch 11/100\n",
            "946/946 [==============================] - 3s 3ms/step - loss: 0.0013\n",
            "Epoch 12/100\n",
            "946/946 [==============================] - 3s 3ms/step - loss: 0.0014\n",
            "Epoch 13/100\n",
            "946/946 [==============================] - 3s 3ms/step - loss: 0.0013\n",
            "Epoch 14/100\n",
            "946/946 [==============================] - 3s 3ms/step - loss: 0.0013\n",
            "Epoch 15/100\n",
            "946/946 [==============================] - 3s 3ms/step - loss: 0.0014\n",
            "Epoch 16/100\n",
            "946/946 [==============================] - 3s 3ms/step - loss: 0.0013\n",
            "Epoch 17/100\n",
            "946/946 [==============================] - 3s 3ms/step - loss: 0.0011\n",
            "Epoch 18/100\n",
            "946/946 [==============================] - 3s 3ms/step - loss: 0.0012\n",
            "Epoch 19/100\n",
            "946/946 [==============================] - 3s 3ms/step - loss: 0.0011\n",
            "Epoch 20/100\n",
            "946/946 [==============================] - 3s 3ms/step - loss: 0.0011\n",
            "Epoch 21/100\n",
            "946/946 [==============================] - 3s 3ms/step - loss: 0.0012\n",
            "Epoch 22/100\n",
            "946/946 [==============================] - 3s 3ms/step - loss: 0.0011\n",
            "Epoch 23/100\n",
            "946/946 [==============================] - 3s 3ms/step - loss: 0.0011\n",
            "Epoch 24/100\n",
            "946/946 [==============================] - 3s 3ms/step - loss: 0.0011\n",
            "Epoch 25/100\n",
            "946/946 [==============================] - 3s 3ms/step - loss: 0.0010\n",
            "Epoch 26/100\n",
            "946/946 [==============================] - 3s 3ms/step - loss: 0.0011\n",
            "Epoch 27/100\n",
            "946/946 [==============================] - 3s 3ms/step - loss: 9.5029e-04\n",
            "Epoch 28/100\n",
            "946/946 [==============================] - 3s 3ms/step - loss: 9.4520e-04\n",
            "Epoch 29/100\n",
            "946/946 [==============================] - 3s 3ms/step - loss: 9.8657e-04\n",
            "Epoch 30/100\n",
            "946/946 [==============================] - 3s 3ms/step - loss: 9.3234e-04\n",
            "Epoch 31/100\n",
            "946/946 [==============================] - 3s 3ms/step - loss: 9.3428e-04\n",
            "Epoch 32/100\n",
            "946/946 [==============================] - 3s 3ms/step - loss: 9.1407e-04\n",
            "Epoch 33/100\n",
            "946/946 [==============================] - 3s 3ms/step - loss: 9.0066e-04\n",
            "Epoch 34/100\n",
            "946/946 [==============================] - 3s 3ms/step - loss: 9.6524e-04\n",
            "Epoch 35/100\n",
            "946/946 [==============================] - 3s 3ms/step - loss: 8.3515e-04\n",
            "Epoch 36/100\n",
            "946/946 [==============================] - 3s 3ms/step - loss: 8.9615e-04\n",
            "Epoch 37/100\n",
            "946/946 [==============================] - 3s 3ms/step - loss: 8.4903e-04\n",
            "Epoch 38/100\n",
            "946/946 [==============================] - 3s 3ms/step - loss: 9.0148e-04\n",
            "Epoch 39/100\n",
            "946/946 [==============================] - 3s 3ms/step - loss: 8.0894e-04\n",
            "Epoch 40/100\n",
            "946/946 [==============================] - 3s 3ms/step - loss: 8.1727e-04\n",
            "Epoch 41/100\n",
            "946/946 [==============================] - 3s 3ms/step - loss: 7.7984e-04\n",
            "Epoch 42/100\n",
            "946/946 [==============================] - 3s 3ms/step - loss: 8.5532e-04\n",
            "Epoch 43/100\n",
            "946/946 [==============================] - 3s 3ms/step - loss: 8.2387e-04\n",
            "Epoch 44/100\n",
            "946/946 [==============================] - 3s 3ms/step - loss: 8.1539e-04\n",
            "Epoch 45/100\n",
            "946/946 [==============================] - 3s 3ms/step - loss: 7.3371e-04\n",
            "Epoch 46/100\n",
            "946/946 [==============================] - 3s 3ms/step - loss: 7.8294e-04\n",
            "Epoch 47/100\n",
            "946/946 [==============================] - 3s 3ms/step - loss: 8.2713e-04\n",
            "Epoch 48/100\n",
            "946/946 [==============================] - 3s 3ms/step - loss: 9.1733e-04\n",
            "Epoch 49/100\n",
            "946/946 [==============================] - 3s 3ms/step - loss: 7.1606e-04\n",
            "Epoch 50/100\n",
            "946/946 [==============================] - 3s 3ms/step - loss: 7.1303e-04\n",
            "Epoch 51/100\n",
            "946/946 [==============================] - 3s 3ms/step - loss: 7.1037e-04\n",
            "Epoch 52/100\n",
            "946/946 [==============================] - 3s 3ms/step - loss: 6.2483e-04\n",
            "Epoch 53/100\n",
            "946/946 [==============================] - 3s 3ms/step - loss: 6.7221e-04\n",
            "Epoch 54/100\n",
            "946/946 [==============================] - 3s 3ms/step - loss: 6.8625e-04\n",
            "Epoch 55/100\n",
            "946/946 [==============================] - 3s 3ms/step - loss: 6.4308e-04\n",
            "Epoch 56/100\n",
            "946/946 [==============================] - 3s 3ms/step - loss: 6.7082e-04\n",
            "Epoch 57/100\n",
            "946/946 [==============================] - 3s 3ms/step - loss: 8.4108e-04\n",
            "Epoch 58/100\n",
            "946/946 [==============================] - 3s 3ms/step - loss: 7.2087e-04\n",
            "Epoch 59/100\n",
            "946/946 [==============================] - 3s 3ms/step - loss: 6.3144e-04\n",
            "Epoch 60/100\n",
            "946/946 [==============================] - 3s 3ms/step - loss: 6.6328e-04\n",
            "Epoch 61/100\n",
            "946/946 [==============================] - 3s 3ms/step - loss: 6.2736e-04\n",
            "Epoch 62/100\n",
            "946/946 [==============================] - 3s 3ms/step - loss: 7.0605e-04\n",
            "Epoch 63/100\n",
            "946/946 [==============================] - 3s 3ms/step - loss: 6.7162e-04\n",
            "Epoch 64/100\n",
            "946/946 [==============================] - 3s 3ms/step - loss: 6.4219e-04\n",
            "Epoch 65/100\n",
            "946/946 [==============================] - 3s 3ms/step - loss: 6.4021e-04\n",
            "Epoch 66/100\n",
            "946/946 [==============================] - 3s 3ms/step - loss: 5.6974e-04\n",
            "Epoch 67/100\n",
            "946/946 [==============================] - 3s 3ms/step - loss: 6.8236e-04\n",
            "Epoch 68/100\n",
            "946/946 [==============================] - 3s 3ms/step - loss: 6.3924e-04\n",
            "Epoch 69/100\n",
            "946/946 [==============================] - 3s 3ms/step - loss: 6.1668e-04\n",
            "Epoch 70/100\n",
            "946/946 [==============================] - 3s 3ms/step - loss: 6.2916e-04\n",
            "Epoch 71/100\n",
            "946/946 [==============================] - 3s 3ms/step - loss: 6.3733e-04\n",
            "Epoch 72/100\n",
            "946/946 [==============================] - 3s 3ms/step - loss: 6.3424e-04\n",
            "Epoch 73/100\n",
            "946/946 [==============================] - 3s 3ms/step - loss: 6.1160e-04\n",
            "Epoch 74/100\n",
            "946/946 [==============================] - 3s 3ms/step - loss: 6.2517e-04\n",
            "Epoch 75/100\n",
            "946/946 [==============================] - 3s 3ms/step - loss: 5.8992e-04\n",
            "Epoch 76/100\n",
            "946/946 [==============================] - 3s 3ms/step - loss: 5.6791e-04\n",
            "Epoch 77/100\n",
            "946/946 [==============================] - 3s 3ms/step - loss: 6.1382e-04\n",
            "Epoch 78/100\n",
            "946/946 [==============================] - 3s 3ms/step - loss: 5.9983e-04\n",
            "Epoch 79/100\n",
            "946/946 [==============================] - 3s 3ms/step - loss: 6.0043e-04\n",
            "Epoch 80/100\n",
            "946/946 [==============================] - 3s 3ms/step - loss: 6.0077e-04\n",
            "Epoch 81/100\n",
            "946/946 [==============================] - 3s 3ms/step - loss: 5.4868e-04\n",
            "Epoch 82/100\n",
            "946/946 [==============================] - 3s 3ms/step - loss: 5.4686e-04\n",
            "Epoch 83/100\n",
            "946/946 [==============================] - 3s 3ms/step - loss: 5.7395e-04\n",
            "Epoch 84/100\n",
            "946/946 [==============================] - 3s 3ms/step - loss: 5.2737e-04\n",
            "Epoch 85/100\n",
            "946/946 [==============================] - 3s 3ms/step - loss: 5.4600e-04\n",
            "Epoch 86/100\n",
            "946/946 [==============================] - 3s 3ms/step - loss: 5.4340e-04\n",
            "Epoch 87/100\n",
            "946/946 [==============================] - 3s 3ms/step - loss: 5.8387e-04\n",
            "Epoch 88/100\n",
            "946/946 [==============================] - 3s 3ms/step - loss: 5.2326e-04\n",
            "Epoch 89/100\n",
            "946/946 [==============================] - 3s 3ms/step - loss: 5.1890e-04\n",
            "Epoch 90/100\n",
            "946/946 [==============================] - 3s 3ms/step - loss: 4.7436e-04\n",
            "Epoch 91/100\n",
            "946/946 [==============================] - 3s 3ms/step - loss: 5.5090e-04\n",
            "Epoch 92/100\n",
            "946/946 [==============================] - 3s 3ms/step - loss: 4.7384e-04\n",
            "Epoch 93/100\n",
            "946/946 [==============================] - 3s 3ms/step - loss: 5.3890e-04\n",
            "Epoch 94/100\n",
            "946/946 [==============================] - 3s 3ms/step - loss: 4.6383e-04\n",
            "Epoch 95/100\n",
            "946/946 [==============================] - 3s 3ms/step - loss: 5.2035e-04\n",
            "Epoch 96/100\n",
            "946/946 [==============================] - 3s 3ms/step - loss: 5.2879e-04\n",
            "Epoch 97/100\n",
            "946/946 [==============================] - 3s 3ms/step - loss: 4.9277e-04\n",
            "Epoch 98/100\n",
            "946/946 [==============================] - 3s 3ms/step - loss: 5.4303e-04\n",
            "Epoch 99/100\n",
            "946/946 [==============================] - 3s 3ms/step - loss: 5.5123e-04\n",
            "Epoch 100/100\n",
            "946/946 [==============================] - 3s 3ms/step - loss: 4.8643e-04\n"
          ],
          "name": "stdout"
        },
        {
          "output_type": "execute_result",
          "data": {
            "text/plain": [
              "<keras.callbacks.History at 0x7f7b760447f0>"
            ]
          },
          "metadata": {
            "tags": []
          },
          "execution_count": 33
        }
      ]
    },
    {
      "cell_type": "code",
      "metadata": {
        "id": "E0JmwQFqKvit",
        "colab_type": "code",
        "colab": {
          "base_uri": "https://localhost:8080/",
          "height": 287
        },
        "outputId": "02d0faa8-87cb-48dc-9aa7-89eb72a78ec3"
      },
      "source": [
        "plt.plot(model.history.history['loss'])\n",
        "plt.show"
      ],
      "execution_count": null,
      "outputs": [
        {
          "output_type": "execute_result",
          "data": {
            "text/plain": [
              "<function matplotlib.pyplot.show>"
            ]
          },
          "metadata": {
            "tags": []
          },
          "execution_count": 34
        },
        {
          "output_type": "display_data",
          "data": {
            "image/png": "[encoded data removed]",
            "text/plain": [
              "<Figure size 432x288 with 1 Axes>"
            ]
          },
          "metadata": {
            "tags": []
          }
        }
      ]
    },
    {
      "cell_type": "code",
      "metadata": {
        "id": "Oq1Bl9tDKvgq",
        "colab_type": "code",
        "colab": {
          "base_uri": "https://localhost:8080/",
          "height": 53
        },
        "outputId": "9ff65ccc-6265-46ab-9e06-cb601e851ebe"
      },
      "source": [
        "# 모델 적용\n",
        "trainPredict = model.predict(trainX)\n",
        "testPredict = model.predict(testX)\n",
        "\n",
        "# 예측 결과에 적용할 수 있도록 역변환\n",
        "trainPredict = scaler.inverse_transform(trainPredict) \n",
        "trainY = scaler.inverse_transform([trainY])\n",
        "\n",
        "testPredict = scaler.inverse_transform(testPredict)\n",
        "testY = scaler.inverse_transform([testY])\n",
        "\n",
        "# Root MSE 계산\n",
        "trainScore = math.sqrt(mean_squared_error(trainY[0], trainPredict[:,0]))\n",
        "print('Train Score: %.2f RMSE' % (trainScore))\n",
        "\n",
        "testScore = math.sqrt(mean_squared_error(testY[0], testPredict[:,0]))\n",
        "print('Test Score: %.2f RMSE' % (testScore))\n",
        "\n",
        "#RMSE값은 작을수록 정밀도가 높은거"
      ],
      "execution_count": null,
      "outputs": [
        {
          "output_type": "stream",
          "text": [
            "Train Score: 2.40 RMSE\n",
            "Test Score: 4.50 RMSE\n"
          ],
          "name": "stdout"
        }
      ]
    },
    {
      "cell_type": "code",
      "metadata": {
        "id": "pBAAxxqAKveY",
        "colab_type": "code",
        "colab": {
          "base_uri": "https://localhost:8080/",
          "height": 370
        },
        "outputId": "d55c493b-469c-4555-9cef-57fab8a50820"
      },
      "source": [
        "# 원본 데이터 세트가 파란색으로 표시\n",
        "# 훈련 데이터 세트의 예상은 녹색으로 표시\n",
        "# 보이지 않는 테스트 데이터 세트의 예측은 빨간색으로 표시\n",
        "\n",
        "# shift train predictions for plotting\n",
        "trainPredictPlot = np.empty_like(dataset)\n",
        "trainPredictPlot[:, :] = np.nan\n",
        "trainPredictPlot[look_back:len(trainPredict)+look_back, :] = trainPredict\n",
        "\n",
        "# shift test predictions for plotting\n",
        "testPredictPlot = np.empty_like(dataset)\n",
        "testPredictPlot[:, :] = np.nan\n",
        "testPredictPlot[len(trainPredict)+(look_back*2)+1:len(dataset)-1, :] = testPredict\n",
        "\n",
        "# plot baseline and predictions\n",
        "plt.figure(figsize = (15, 5))\n",
        "plt.title(\"Monthly Total Airline Passengers 1949 - 1960\")\n",
        "plt.ylabel(\"Airline Passengers\")\n",
        "plt.xlabel(\"Months\")\n",
        "plt.plot(scaler.inverse_transform(dataset),color='blue')\n",
        "plt.plot(trainPredictPlot,color='green')\n",
        "plt.plot(testPredictPlot,color='red')\n",
        "\n",
        "plt.show()"
      ],
      "execution_count": null,
      "outputs": [
        {
          "output_type": "display_data",
          "data": {
            "image/png": "[encoded data removed]",
            "text/plain": [
              "<Figure size 1080x360 with 1 Axes>"
            ]
          },
          "metadata": {
            "tags": []
          }
        }
      ]
    },
    {
      "cell_type": "markdown",
      "metadata": {
        "id": "OrPX9PH_54FU",
        "colab_type": "text"
      },
      "source": [
        "## Stacked LSTM + Dropout"
      ]
    },
    {
      "cell_type": "markdown",
      "metadata": {
        "id": "XKkmv2Oh0V21",
        "colab_type": "text"
      },
      "source": [
        "### Data"
      ]
    },
    {
      "cell_type": "code",
      "metadata": {
        "id": "ft3xa7K40Y11",
        "colab_type": "code",
        "colab": {}
      },
      "source": [
        "# 같은 결과를 나오게 하기 위해 seed 설정\n",
        "np.random.seed(2017010794)"
      ],
      "execution_count": null,
      "outputs": []
    },
    {
      "cell_type": "code",
      "metadata": {
        "id": "8n3llX6s0bfF",
        "colab_type": "code",
        "colab": {}
      },
      "source": [
        "# 데이터 불러오기\n",
        "dataset = pd.read_csv(r'./gdrive/My Drive/apple.csv')  "
      ],
      "execution_count": null,
      "outputs": []
    },
    {
      "cell_type": "code",
      "metadata": {
        "id": "9BlyulC20h8M",
        "colab_type": "code",
        "colab": {}
      },
      "source": [
        "# 필요한 open열의 데이터만 불러오기(주식의 개시 가격)\n",
        "dataset = dataset.iloc[:, 1:2].values  "
      ],
      "execution_count": null,
      "outputs": []
    },
    {
      "cell_type": "code",
      "metadata": {
        "id": "l21mQaM10oTt",
        "colab_type": "code",
        "colab": {
          "base_uri": "https://localhost:8080/",
          "height": 343
        },
        "outputId": "193a6b50-2adc-4a6d-e837-b27344c509ea"
      },
      "source": [
        "# 원본 데이터 보기\n",
        "plt.figure(figsize = (15, 5))\n",
        "plt.plot(dataset)\n",
        "plt.show()"
      ],
      "execution_count": null,
      "outputs": [
        {
          "output_type": "display_data",
          "data": {
            "image/png": "[encoded data removed]",
            "text/plain": [
              "<Figure size 1080x360 with 1 Axes>"
            ]
          },
          "metadata": {
            "tags": []
          }
        }
      ]
    },
    {
      "cell_type": "code",
      "metadata": {
        "id": "0G-ph-2408tt",
        "colab_type": "code",
        "colab": {}
      },
      "source": [
        "# scikit-learn 라이브러리 의 MinMaxScaler 전처리 클래스를 사용하여 데이터 세트를 쉽게 정규화.\n",
        "# MinMaxScaler : 모든 특성들이 0 과 1 사이에 위치하도록 데이터를 비례적으로 조정\n",
        "\n",
        "scaler = MinMaxScaler(feature_range=(0, 1))\n",
        "dataset = scaler.fit_transform(dataset)"
      ],
      "execution_count": null,
      "outputs": []
    },
    {
      "cell_type": "code",
      "metadata": {
        "id": "xy95X4MA1C4E",
        "colab_type": "code",
        "colab": {
          "base_uri": "https://localhost:8080/",
          "height": 35
        },
        "outputId": "f7b0a91c-66eb-45bb-e81a-859a8035a79e"
      },
      "source": [
        "# Train data와 Test data로 분할\n",
        "\n",
        "train_size = int(len(dataset) * 0.8)\n",
        "test_size = len(dataset) - train_size\n",
        "train, test = dataset[0:train_size,:], dataset[train_size:len(dataset),:]\n",
        "\n",
        "print(len(train), len(test))"
      ],
      "execution_count": null,
      "outputs": [
        {
          "output_type": "stream",
          "text": [
            "1007 252\n"
          ],
          "name": "stdout"
        }
      ]
    },
    {
      "cell_type": "code",
      "metadata": {
        "id": "fsEG3R0h1Kdh",
        "colab_type": "code",
        "colab": {}
      },
      "source": [
        "# convert an array of values into a dataset matrix\n",
        "def create_dataset(dataset, look_back=1):\n",
        "\tdataX, dataY = [], []\n",
        "\tfor i in range(len(dataset)-look_back-1):\n",
        "\t\ta = dataset[i:(i+look_back), 0]\n",
        "\t\tdataX.append(a)\n",
        "\t\tdataY.append(dataset[i + look_back, 0])\n",
        "\treturn np.array(dataX), np.array(dataY)\n",
        "\n",
        "# 이 기본값은 X가 주어진 시간 (t)의 승객 수이고 Y가 다음 시간 (t + 1)의 승객 수인 데이터 세트를 생성합니다."
      ],
      "execution_count": null,
      "outputs": []
    },
    {
      "cell_type": "code",
      "metadata": {
        "id": "XWWRBTMW1i1M",
        "colab_type": "code",
        "colab": {}
      },
      "source": [
        "look_back = 60 # 60일\n",
        "trainX, trainY = create_dataset(train, look_back)\n",
        "testX, testY = create_dataset(test, look_back)"
      ],
      "execution_count": null,
      "outputs": []
    },
    {
      "cell_type": "code",
      "metadata": {
        "id": "Hxkq8kvU19nH",
        "colab_type": "code",
        "colab": {}
      },
      "source": [
        "# 3차원으로 변환\n",
        "# 데이터 세트의 레코드 수 또는 행의 수(1259), 시간 단계 수(60), 특징 수(1)\n",
        "\n",
        "# reshape input to be [samples, time steps, features]\n",
        "trainX = np.reshape(trainX, (trainX.shape[0], trainX.shape[1], 1)) \n",
        "testX = np.reshape(testX, (testX.shape[0], testX.shape[1], 1))"
      ],
      "execution_count": null,
      "outputs": []
    },
    {
      "cell_type": "markdown",
      "metadata": {
        "id": "oVlAibMA3Gsu",
        "colab_type": "text"
      },
      "source": [
        "### LSTM"
      ]
    },
    {
      "cell_type": "code",
      "metadata": {
        "id": "-oseTqTj3JaU",
        "colab_type": "code",
        "colab": {}
      },
      "source": [
        "model = Sequential() #순차모델 이용\n",
        "\n",
        "model.add(LSTM(units=50, return_sequences=True, input_shape=(trainX.shape[1], 1))) \n",
        "model.add(Dropout(0.2))\n",
        "\n",
        "model.add(LSTM(units=50, return_sequences=True))  \n",
        "model.add(Dropout(0.2))\n",
        "\n",
        "model.add(LSTM(units=50, return_sequences=True))  \n",
        "model.add(Dropout(0.2))\n",
        "\n",
        "model.add(LSTM(units=50))  \n",
        "model.add(Dropout(0.2)) \n",
        "\n",
        "model.add(Dense(units = 1)) #입력받을 크기 Dense => 노드끼리 서로 모두 연결되어 있다.\n",
        "model.compile(optimizer = 'adam', loss = 'mean_squared_error')  #training을 위해 모델 환경을 만든다."
      ],
      "execution_count": null,
      "outputs": []
    },
    {
      "cell_type": "code",
      "metadata": {
        "id": "sMb7eJc73Kak",
        "colab_type": "code",
        "colab": {
          "base_uri": "https://localhost:8080/",
          "height": 467
        },
        "outputId": "b429cda9-6334-4901-a165-2463d44df534"
      },
      "source": [
        "model.summary()"
      ],
      "execution_count": null,
      "outputs": [
        {
          "output_type": "stream",
          "text": [
            "_________________________________________________________________\n",
            "Layer (type)                 Output Shape              Param #   \n",
            "=================================================================\n",
            "lstm_7 (LSTM)                (None, 60, 50)            10400     \n",
            "_________________________________________________________________\n",
            "dropout_2 (Dropout)          (None, 60, 50)            0         \n",
            "_________________________________________________________________\n",
            "lstm_8 (LSTM)                (None, 60, 50)            20200     \n",
            "_________________________________________________________________\n",
            "dropout_3 (Dropout)          (None, 60, 50)            0         \n",
            "_________________________________________________________________\n",
            "lstm_9 (LSTM)                (None, 60, 50)            20200     \n",
            "_________________________________________________________________\n",
            "dropout_4 (Dropout)          (None, 60, 50)            0         \n",
            "_________________________________________________________________\n",
            "lstm_10 (LSTM)               (None, 50)                20200     \n",
            "_________________________________________________________________\n",
            "dropout_5 (Dropout)          (None, 50)                0         \n",
            "_________________________________________________________________\n",
            "dense_4 (Dense)              (None, 1)                 51        \n",
            "=================================================================\n",
            "Total params: 71,051\n",
            "Trainable params: 71,051\n",
            "Non-trainable params: 0\n",
            "_________________________________________________________________\n"
          ],
          "name": "stdout"
        }
      ]
    },
    {
      "cell_type": "code",
      "metadata": {
        "id": "m6eLPlYO3LZk",
        "colab_type": "code",
        "colab": {
          "base_uri": "https://localhost:8080/",
          "height": 3635
        },
        "outputId": "bfad29b1-7ae1-44de-9d65-9cf6b44eb597"
      },
      "source": [
        "# 모델 훈련\n",
        "model.fit(trainX, trainY, epochs = 100, batch_size = 32)  "
      ],
      "execution_count": null,
      "outputs": [
        {
          "output_type": "stream",
          "text": [
            "Epoch 1/100\n",
            "946/946 [==============================] - 14s 15ms/step - loss: 0.0201\n",
            "Epoch 2/100\n",
            "946/946 [==============================] - 11s 12ms/step - loss: 0.0041\n",
            "Epoch 3/100\n",
            "946/946 [==============================] - 11s 12ms/step - loss: 0.0031\n",
            "Epoch 4/100\n",
            "946/946 [==============================] - 11s 12ms/step - loss: 0.0028\n",
            "Epoch 5/100\n",
            "946/946 [==============================] - 11s 12ms/step - loss: 0.0024\n",
            "Epoch 6/100\n",
            "946/946 [==============================] - 11s 12ms/step - loss: 0.0028\n",
            "Epoch 7/100\n",
            "946/946 [==============================] - 12s 13ms/step - loss: 0.0028\n",
            "Epoch 8/100\n",
            "946/946 [==============================] - 11s 12ms/step - loss: 0.0024\n",
            "Epoch 9/100\n",
            "946/946 [==============================] - 11s 12ms/step - loss: 0.0024\n",
            "Epoch 10/100\n",
            "946/946 [==============================] - 12s 13ms/step - loss: 0.0023\n",
            "Epoch 11/100\n",
            "946/946 [==============================] - 11s 12ms/step - loss: 0.0023\n",
            "Epoch 12/100\n",
            "946/946 [==============================] - 11s 12ms/step - loss: 0.0021\n",
            "Epoch 13/100\n",
            "946/946 [==============================] - 11s 12ms/step - loss: 0.0024\n",
            "Epoch 14/100\n",
            "946/946 [==============================] - 12s 12ms/step - loss: 0.0023\n",
            "Epoch 15/100\n",
            "946/946 [==============================] - 11s 12ms/step - loss: 0.0019\n",
            "Epoch 16/100\n",
            "946/946 [==============================] - 11s 12ms/step - loss: 0.0020\n",
            "Epoch 17/100\n",
            "946/946 [==============================] - 11s 12ms/step - loss: 0.0021\n",
            "Epoch 18/100\n",
            "946/946 [==============================] - 11s 12ms/step - loss: 0.0018\n",
            "Epoch 19/100\n",
            "946/946 [==============================] - 11s 12ms/step - loss: 0.0018\n",
            "Epoch 20/100\n",
            "946/946 [==============================] - 11s 12ms/step - loss: 0.0018\n",
            "Epoch 21/100\n",
            "946/946 [==============================] - 12s 13ms/step - loss: 0.0017\n",
            "Epoch 22/100\n",
            "946/946 [==============================] - 11s 12ms/step - loss: 0.0016\n",
            "Epoch 23/100\n",
            "946/946 [==============================] - 11s 12ms/step - loss: 0.0017\n",
            "Epoch 24/100\n",
            "946/946 [==============================] - 11s 12ms/step - loss: 0.0016\n",
            "Epoch 25/100\n",
            "946/946 [==============================] - 11s 12ms/step - loss: 0.0018\n",
            "Epoch 26/100\n",
            "946/946 [==============================] - 11s 12ms/step - loss: 0.0016\n",
            "Epoch 27/100\n",
            "946/946 [==============================] - 11s 11ms/step - loss: 0.0015\n",
            "Epoch 28/100\n",
            "946/946 [==============================] - 12s 12ms/step - loss: 0.0013\n",
            "Epoch 29/100\n",
            "946/946 [==============================] - 11s 12ms/step - loss: 0.0016\n",
            "Epoch 30/100\n",
            "946/946 [==============================] - 11s 11ms/step - loss: 0.0014\n",
            "Epoch 31/100\n",
            "946/946 [==============================] - 11s 11ms/step - loss: 0.0014\n",
            "Epoch 32/100\n",
            "946/946 [==============================] - 11s 11ms/step - loss: 0.0014\n",
            "Epoch 33/100\n",
            "946/946 [==============================] - 11s 11ms/step - loss: 0.0012\n",
            "Epoch 34/100\n",
            "946/946 [==============================] - 11s 12ms/step - loss: 0.0012\n",
            "Epoch 35/100\n",
            "946/946 [==============================] - 11s 12ms/step - loss: 0.0016\n",
            "Epoch 36/100\n",
            "946/946 [==============================] - 11s 12ms/step - loss: 0.0014\n",
            "Epoch 37/100\n",
            "946/946 [==============================] - 11s 11ms/step - loss: 0.0013\n",
            "Epoch 38/100\n",
            "946/946 [==============================] - 12s 13ms/step - loss: 0.0010\n",
            "Epoch 39/100\n",
            "946/946 [==============================] - 11s 11ms/step - loss: 0.0012\n",
            "Epoch 40/100\n",
            "946/946 [==============================] - 11s 11ms/step - loss: 0.0013\n",
            "Epoch 41/100\n",
            "946/946 [==============================] - 11s 11ms/step - loss: 0.0011\n",
            "Epoch 42/100\n",
            "946/946 [==============================] - 11s 12ms/step - loss: 0.0011\n",
            "Epoch 43/100\n",
            "946/946 [==============================] - 12s 12ms/step - loss: 0.0011\n",
            "Epoch 44/100\n",
            "946/946 [==============================] - 11s 11ms/step - loss: 0.0011\n",
            "Epoch 45/100\n",
            "946/946 [==============================] - 11s 11ms/step - loss: 0.0011\n",
            "Epoch 46/100\n",
            "946/946 [==============================] - 11s 11ms/step - loss: 0.0011\n",
            "Epoch 47/100\n",
            "946/946 [==============================] - 11s 11ms/step - loss: 0.0010\n",
            "Epoch 48/100\n",
            "946/946 [==============================] - 11s 11ms/step - loss: 9.3408e-04\n",
            "Epoch 49/100\n",
            "946/946 [==============================] - 11s 11ms/step - loss: 9.9039e-04\n",
            "Epoch 50/100\n",
            "946/946 [==============================] - 12s 12ms/step - loss: 0.0011\n",
            "Epoch 51/100\n",
            "946/946 [==============================] - 11s 11ms/step - loss: 0.0011\n",
            "Epoch 52/100\n",
            "946/946 [==============================] - 11s 11ms/step - loss: 9.3748e-04\n",
            "Epoch 53/100\n",
            "946/946 [==============================] - 11s 11ms/step - loss: 0.0011\n",
            "Epoch 54/100\n",
            "946/946 [==============================] - 11s 11ms/step - loss: 0.0010\n",
            "Epoch 55/100\n",
            "946/946 [==============================] - 11s 11ms/step - loss: 9.7411e-04\n",
            "Epoch 56/100\n",
            "946/946 [==============================] - 11s 11ms/step - loss: 9.9116e-04\n",
            "Epoch 57/100\n",
            "946/946 [==============================] - 11s 12ms/step - loss: 0.0010\n",
            "Epoch 58/100\n",
            "946/946 [==============================] - 11s 12ms/step - loss: 0.0010\n",
            "Epoch 59/100\n",
            "946/946 [==============================] - 11s 11ms/step - loss: 8.8803e-04\n",
            "Epoch 60/100\n",
            "946/946 [==============================] - 11s 11ms/step - loss: 8.6777e-04\n",
            "Epoch 61/100\n",
            "946/946 [==============================] - 11s 11ms/step - loss: 9.2236e-04\n",
            "Epoch 62/100\n",
            "946/946 [==============================] - 11s 12ms/step - loss: 9.5350e-04\n",
            "Epoch 63/100\n",
            "946/946 [==============================] - 11s 11ms/step - loss: 0.0010\n",
            "Epoch 64/100\n",
            "946/946 [==============================] - 11s 12ms/step - loss: 8.8008e-04\n",
            "Epoch 65/100\n",
            "946/946 [==============================] - 12s 12ms/step - loss: 8.0652e-04\n",
            "Epoch 66/100\n",
            "946/946 [==============================] - 12s 13ms/step - loss: 0.0011\n",
            "Epoch 67/100\n",
            "946/946 [==============================] - 11s 12ms/step - loss: 9.6234e-04\n",
            "Epoch 68/100\n",
            "946/946 [==============================] - 11s 11ms/step - loss: 8.3039e-04\n",
            "Epoch 69/100\n",
            "946/946 [==============================] - 11s 11ms/step - loss: 8.1514e-04\n",
            "Epoch 70/100\n",
            "946/946 [==============================] - 11s 11ms/step - loss: 8.3810e-04\n",
            "Epoch 71/100\n",
            "946/946 [==============================] - 11s 11ms/step - loss: 8.7707e-04\n",
            "Epoch 72/100\n",
            "946/946 [==============================] - 12s 12ms/step - loss: 8.2176e-04\n",
            "Epoch 73/100\n",
            "946/946 [==============================] - 11s 11ms/step - loss: 8.0507e-04\n",
            "Epoch 74/100\n",
            "946/946 [==============================] - 11s 11ms/step - loss: 7.6438e-04\n",
            "Epoch 75/100\n",
            "946/946 [==============================] - 11s 11ms/step - loss: 7.9142e-04\n",
            "Epoch 76/100\n",
            "946/946 [==============================] - 11s 11ms/step - loss: 8.5257e-04\n",
            "Epoch 77/100\n",
            "946/946 [==============================] - 11s 11ms/step - loss: 8.0873e-04\n",
            "Epoch 78/100\n",
            "946/946 [==============================] - 11s 11ms/step - loss: 8.9337e-04\n",
            "Epoch 79/100\n",
            "946/946 [==============================] - 12s 12ms/step - loss: 7.8988e-04\n",
            "Epoch 80/100\n",
            "946/946 [==============================] - 11s 12ms/step - loss: 7.5500e-04\n",
            "Epoch 81/100\n",
            "946/946 [==============================] - 11s 11ms/step - loss: 8.4017e-04\n",
            "Epoch 82/100\n",
            "946/946 [==============================] - 11s 11ms/step - loss: 7.8154e-04\n",
            "Epoch 83/100\n",
            "946/946 [==============================] - 11s 11ms/step - loss: 8.1279e-04\n",
            "Epoch 84/100\n",
            "946/946 [==============================] - 11s 11ms/step - loss: 8.3485e-04\n",
            "Epoch 85/100\n",
            "946/946 [==============================] - 11s 11ms/step - loss: 7.8022e-04\n",
            "Epoch 86/100\n",
            "946/946 [==============================] - 11s 12ms/step - loss: 7.9691e-04\n",
            "Epoch 87/100\n",
            "946/946 [==============================] - 12s 12ms/step - loss: 9.2547e-04\n",
            "Epoch 88/100\n",
            "946/946 [==============================] - 11s 11ms/step - loss: 7.9377e-04\n",
            "Epoch 89/100\n",
            "946/946 [==============================] - 11s 12ms/step - loss: 6.7755e-04\n",
            "Epoch 90/100\n",
            "946/946 [==============================] - 11s 12ms/step - loss: 8.2123e-04\n",
            "Epoch 91/100\n",
            "946/946 [==============================] - 11s 11ms/step - loss: 7.5532e-04\n",
            "Epoch 92/100\n",
            "946/946 [==============================] - 11s 11ms/step - loss: 7.1714e-04\n",
            "Epoch 93/100\n",
            "946/946 [==============================] - 11s 11ms/step - loss: 8.1508e-04\n",
            "Epoch 94/100\n",
            "946/946 [==============================] - 12s 13ms/step - loss: 7.2855e-04\n",
            "Epoch 95/100\n",
            "946/946 [==============================] - 12s 12ms/step - loss: 6.8314e-04\n",
            "Epoch 96/100\n",
            "946/946 [==============================] - 11s 11ms/step - loss: 7.1595e-04\n",
            "Epoch 97/100\n",
            "946/946 [==============================] - 11s 11ms/step - loss: 7.8504e-04\n",
            "Epoch 98/100\n",
            "946/946 [==============================] - 11s 11ms/step - loss: 7.5183e-04\n",
            "Epoch 99/100\n",
            "946/946 [==============================] - 11s 11ms/step - loss: 6.6225e-04\n",
            "Epoch 100/100\n",
            "946/946 [==============================] - 11s 11ms/step - loss: 6.1211e-04\n"
          ],
          "name": "stdout"
        },
        {
          "output_type": "execute_result",
          "data": {
            "text/plain": [
              "<keras.callbacks.History at 0x7f7b703ac128>"
            ]
          },
          "metadata": {
            "tags": []
          },
          "execution_count": 59
        }
      ]
    },
    {
      "cell_type": "code",
      "metadata": {
        "id": "YHHbldyxB4LF",
        "colab_type": "code",
        "colab": {
          "base_uri": "https://localhost:8080/",
          "height": 287
        },
        "outputId": "a614060c-ebae-48c9-b7f5-47ac40b0a3cd"
      },
      "source": [
        "plt.plot(model.history.history['loss'])\n",
        "plt.show"
      ],
      "execution_count": null,
      "outputs": [
        {
          "output_type": "execute_result",
          "data": {
            "text/plain": [
              "<function matplotlib.pyplot.show>"
            ]
          },
          "metadata": {
            "tags": []
          },
          "execution_count": 60
        },
        {
          "output_type": "display_data",
          "data": {
            "image/png": "[encoded data removed]",
            "text/plain": [
              "<Figure size 432x288 with 1 Axes>"
            ]
          },
          "metadata": {
            "tags": []
          }
        }
      ]
    },
    {
      "cell_type": "code",
      "metadata": {
        "id": "K3illQpc3vn8",
        "colab_type": "code",
        "colab": {
          "base_uri": "https://localhost:8080/",
          "height": 53
        },
        "outputId": "08bdeadd-2f11-4410-a750-bb1d8ed5cb92"
      },
      "source": [
        "# 모델 적용\n",
        "trainPredict = model.predict(trainX)\n",
        "testPredict = model.predict(testX)\n",
        "\n",
        "# 예측 결과에 적용할 수 있도록 역변환\n",
        "trainPredict = scaler.inverse_transform(trainPredict) \n",
        "trainY = scaler.inverse_transform([trainY])\n",
        "\n",
        "testPredict = scaler.inverse_transform(testPredict)\n",
        "testY = scaler.inverse_transform([testY])\n",
        "\n",
        "# Root MSE 계산\n",
        "trainScore = math.sqrt(mean_squared_error(trainY[0], trainPredict[:,0]))\n",
        "print('Train Score: %.2f RMSE' % (trainScore))\n",
        "\n",
        "testScore = math.sqrt(mean_squared_error(testY[0], testPredict[:,0]))\n",
        "print('Test Score: %.2f RMSE' % (testScore))\n",
        "\n",
        "#RMSE값은 작을수록 정밀도가 높은거"
      ],
      "execution_count": null,
      "outputs": [
        {
          "output_type": "stream",
          "text": [
            "Train Score: 2.72 RMSE\n",
            "Test Score: 7.66 RMSE\n"
          ],
          "name": "stdout"
        }
      ]
    },
    {
      "cell_type": "code",
      "metadata": {
        "id": "4vB-A-yB3y8D",
        "colab_type": "code",
        "colab": {
          "base_uri": "https://localhost:8080/",
          "height": 343
        },
        "outputId": "282633f0-904b-4a55-e074-753fac22ac42"
      },
      "source": [
        "# 원본 데이터 세트가 파란색으로 표시\n",
        "# 훈련 데이터 세트의 예상은 녹색으로 표시\n",
        "# 보이지 않는 테스트 데이터 세트의 예측은 빨간색으로 표시\n",
        "\n",
        "# shift train predictions for plotting\n",
        "trainPredictPlot = np.empty_like(dataset)\n",
        "trainPredictPlot[:, :] = np.nan\n",
        "trainPredictPlot[look_back:len(trainPredict)+look_back, :] = trainPredict\n",
        "\n",
        "# shift test predictions for plotting\n",
        "testPredictPlot = np.empty_like(dataset)\n",
        "testPredictPlot[:, :] = np.nan\n",
        "testPredictPlot[len(trainPredict)+(look_back*2)+1:len(dataset)-1, :] = testPredict\n",
        "\n",
        "# plot baseline and predictions\n",
        "plt.figure(figsize = (15, 5))\n",
        "plt.plot(scaler.inverse_transform(dataset),color='blue')\n",
        "plt.plot(trainPredictPlot,color='green')\n",
        "plt.plot(testPredictPlot,color='red')\n",
        "\n",
        "plt.show()"
      ],
      "execution_count": null,
      "outputs": [
        {
          "output_type": "display_data",
          "data": {
            "image/png": "[encoded data removed]",
            "text/plain": [
              "<Figure size 1080x360 with 1 Axes>"
            ]
          },
          "metadata": {
            "tags": []
          }
        }
      ]
    },
    {
      "cell_type": "markdown",
      "metadata": {
        "id": "BbymlWm-I5fC",
        "colab_type": "text"
      },
      "source": [
        "## Simple LSTM 90일"
      ]
    },
    {
      "cell_type": "markdown",
      "metadata": {
        "id": "kTUMJFFuJFPA",
        "colab_type": "text"
      },
      "source": [
        "### Data"
      ]
    },
    {
      "cell_type": "code",
      "metadata": {
        "id": "4leTVlJZJL24",
        "colab_type": "code",
        "colab": {}
      },
      "source": [
        "# 같은 결과를 나오게 하기 위해 seed 설정\n",
        "np.random.seed(2017010794)"
      ],
      "execution_count": null,
      "outputs": []
    },
    {
      "cell_type": "code",
      "metadata": {
        "id": "9QKRZCdfJMPN",
        "colab_type": "code",
        "colab": {}
      },
      "source": [
        "# 데이터 불러오기\n",
        "dataset = pd.read_csv(r'./gdrive/My Drive/apple.csv')  "
      ],
      "execution_count": null,
      "outputs": []
    },
    {
      "cell_type": "code",
      "metadata": {
        "id": "pteBRc4xJO62",
        "colab_type": "code",
        "colab": {}
      },
      "source": [
        "# 필요한 open열의 데이터만 불러오기(주식의 개시 가격)\n",
        "dataset = dataset.iloc[:, 1:2].values  "
      ],
      "execution_count": null,
      "outputs": []
    },
    {
      "cell_type": "code",
      "metadata": {
        "id": "h1Q9ClLAJQUx",
        "colab_type": "code",
        "colab": {
          "base_uri": "https://localhost:8080/",
          "height": 343
        },
        "outputId": "af26a752-164c-4212-d958-2d6fd8a4e6c3"
      },
      "source": [
        "# 원본 데이터 보기\n",
        "plt.figure(figsize = (15, 5))\n",
        "plt.plot(dataset)\n",
        "plt.show()"
      ],
      "execution_count": null,
      "outputs": [
        {
          "output_type": "display_data",
          "data": {
            "image/png": "[encoded data removed]",
            "text/plain": [
              "<Figure size 1080x360 with 1 Axes>"
            ]
          },
          "metadata": {
            "tags": []
          }
        }
      ]
    },
    {
      "cell_type": "code",
      "metadata": {
        "id": "62Z_q3yDJSlR",
        "colab_type": "code",
        "colab": {}
      },
      "source": [
        "# scikit-learn 라이브러리 의 MinMaxScaler 전처리 클래스를 사용하여 데이터 세트를 쉽게 정규화.\n",
        "# MinMaxScaler : 모든 특성들이 0 과 1 사이에 위치하도록 데이터를 비례적으로 조정\n",
        "\n",
        "scaler = MinMaxScaler(feature_range=(0, 1))\n",
        "dataset = scaler.fit_transform(dataset)"
      ],
      "execution_count": null,
      "outputs": []
    },
    {
      "cell_type": "code",
      "metadata": {
        "id": "OcvyT_3WJUpP",
        "colab_type": "code",
        "colab": {
          "base_uri": "https://localhost:8080/",
          "height": 35
        },
        "outputId": "bf4c34b7-81fb-4907-e579-d339bf44ba48"
      },
      "source": [
        "# Train data와 Test data로 분할\n",
        "\n",
        "train_size = int(len(dataset) * 0.8)\n",
        "test_size = len(dataset) - train_size\n",
        "train, test = dataset[0:train_size,:], dataset[train_size:len(dataset),:]\n",
        "\n",
        "print(len(train), len(test))"
      ],
      "execution_count": null,
      "outputs": [
        {
          "output_type": "stream",
          "text": [
            "1007 252\n"
          ],
          "name": "stdout"
        }
      ]
    },
    {
      "cell_type": "code",
      "metadata": {
        "id": "Xs1sIwTZJacm",
        "colab_type": "code",
        "colab": {}
      },
      "source": [
        "look_back = 90 # 90일\n",
        "trainX, trainY = create_dataset(train, look_back)\n",
        "testX, testY = create_dataset(test, look_back)"
      ],
      "execution_count": null,
      "outputs": []
    },
    {
      "cell_type": "code",
      "metadata": {
        "id": "WICVhlTuJaUv",
        "colab_type": "code",
        "colab": {}
      },
      "source": [
        "# 3차원으로 변환\n",
        "# 데이터 세트의 레코드 수 또는 행의 수(1259), 시간 단계 수(90), 특징 수(1)\n",
        "\n",
        "# reshape input to be [samples, time steps, features]\n",
        "trainX = np.reshape(trainX, (trainX.shape[0], trainX.shape[1], 1)) \n",
        "testX = np.reshape(testX, (testX.shape[0], testX.shape[1], 1))"
      ],
      "execution_count": null,
      "outputs": []
    },
    {
      "cell_type": "markdown",
      "metadata": {
        "id": "JqYPNAUjJlDy",
        "colab_type": "text"
      },
      "source": [
        "### LSTM"
      ]
    },
    {
      "cell_type": "code",
      "metadata": {
        "id": "NT0BOsAxJnyn",
        "colab_type": "code",
        "colab": {}
      },
      "source": [
        "model = Sequential() #순차모델 이용\n",
        "\n",
        "model.add(LSTM(units=50, input_shape=(trainX.shape[1], 1))) \n",
        "\n",
        "model.add(Dense(units = 1)) #입력받을 크기 Dense => 노드끼리 서로 모두 연결되어 있다.\n",
        "model.compile(optimizer = 'adam', loss = 'mean_squared_error')  #training을 위해 모델 환경을 만든다."
      ],
      "execution_count": null,
      "outputs": []
    },
    {
      "cell_type": "code",
      "metadata": {
        "id": "OokzNDgpJnxH",
        "colab_type": "code",
        "colab": {
          "base_uri": "https://localhost:8080/",
          "height": 215
        },
        "outputId": "e9ac75c7-cbeb-46a9-c6f2-a2a6075048a3"
      },
      "source": [
        "model.summary()"
      ],
      "execution_count": null,
      "outputs": [
        {
          "output_type": "stream",
          "text": [
            "_________________________________________________________________\n",
            "Layer (type)                 Output Shape              Param #   \n",
            "=================================================================\n",
            "lstm_11 (LSTM)               (None, 50)                10400     \n",
            "_________________________________________________________________\n",
            "dense_5 (Dense)              (None, 1)                 51        \n",
            "=================================================================\n",
            "Total params: 10,451\n",
            "Trainable params: 10,451\n",
            "Non-trainable params: 0\n",
            "_________________________________________________________________\n"
          ],
          "name": "stdout"
        }
      ]
    },
    {
      "cell_type": "code",
      "metadata": {
        "id": "TyhoICzoJnvd",
        "colab_type": "code",
        "colab": {
          "base_uri": "https://localhost:8080/",
          "height": 3635
        },
        "outputId": "4760e89e-5edf-4d49-db49-f7d211c53f9f"
      },
      "source": [
        "# 모델 훈련\n",
        "model.fit(trainX, trainY, epochs = 100, batch_size = 32)  "
      ],
      "execution_count": null,
      "outputs": [
        {
          "output_type": "stream",
          "text": [
            "Epoch 1/100\n",
            "916/916 [==============================] - 6s 6ms/step - loss: 0.0198\n",
            "Epoch 2/100\n",
            "916/916 [==============================] - 4s 4ms/step - loss: 0.0020\n",
            "Epoch 3/100\n",
            "916/916 [==============================] - 4s 4ms/step - loss: 8.2373e-04\n",
            "Epoch 4/100\n",
            "916/916 [==============================] - 4s 4ms/step - loss: 7.2648e-04\n",
            "Epoch 5/100\n",
            "916/916 [==============================] - 4s 4ms/step - loss: 7.5343e-04\n",
            "Epoch 6/100\n",
            "916/916 [==============================] - 4s 4ms/step - loss: 6.9442e-04\n",
            "Epoch 7/100\n",
            "916/916 [==============================] - 4s 4ms/step - loss: 6.8169e-04\n",
            "Epoch 8/100\n",
            "916/916 [==============================] - 4s 4ms/step - loss: 6.6512e-04\n",
            "Epoch 9/100\n",
            "916/916 [==============================] - 4s 4ms/step - loss: 6.5906e-04\n",
            "Epoch 10/100\n",
            "916/916 [==============================] - 4s 4ms/step - loss: 6.4267e-04\n",
            "Epoch 11/100\n",
            "916/916 [==============================] - 4s 4ms/step - loss: 6.4060e-04\n",
            "Epoch 12/100\n",
            "916/916 [==============================] - 4s 4ms/step - loss: 6.2722e-04\n",
            "Epoch 13/100\n",
            "916/916 [==============================] - 4s 4ms/step - loss: 6.0060e-04\n",
            "Epoch 14/100\n",
            "916/916 [==============================] - 4s 4ms/step - loss: 6.1075e-04\n",
            "Epoch 15/100\n",
            "916/916 [==============================] - 4s 4ms/step - loss: 6.0579e-04\n",
            "Epoch 16/100\n",
            "916/916 [==============================] - 4s 4ms/step - loss: 5.6686e-04\n",
            "Epoch 17/100\n",
            "916/916 [==============================] - 4s 4ms/step - loss: 5.5500e-04\n",
            "Epoch 18/100\n",
            "916/916 [==============================] - 4s 4ms/step - loss: 5.4193e-04\n",
            "Epoch 19/100\n",
            "916/916 [==============================] - 4s 4ms/step - loss: 5.4037e-04\n",
            "Epoch 20/100\n",
            "916/916 [==============================] - 4s 4ms/step - loss: 5.1870e-04\n",
            "Epoch 21/100\n",
            "916/916 [==============================] - 4s 5ms/step - loss: 5.3771e-04\n",
            "Epoch 22/100\n",
            "916/916 [==============================] - 4s 5ms/step - loss: 5.1647e-04\n",
            "Epoch 23/100\n",
            "916/916 [==============================] - 4s 4ms/step - loss: 4.9808e-04\n",
            "Epoch 24/100\n",
            "916/916 [==============================] - 4s 4ms/step - loss: 4.8444e-04\n",
            "Epoch 25/100\n",
            "916/916 [==============================] - 4s 4ms/step - loss: 4.6897e-04\n",
            "Epoch 26/100\n",
            "916/916 [==============================] - 4s 4ms/step - loss: 4.6866e-04\n",
            "Epoch 27/100\n",
            "916/916 [==============================] - 4s 4ms/step - loss: 4.7959e-04\n",
            "Epoch 28/100\n",
            "916/916 [==============================] - 4s 4ms/step - loss: 4.6112e-04\n",
            "Epoch 29/100\n",
            "916/916 [==============================] - 4s 4ms/step - loss: 4.6376e-04\n",
            "Epoch 30/100\n",
            "916/916 [==============================] - 4s 4ms/step - loss: 4.4397e-04\n",
            "Epoch 31/100\n",
            "916/916 [==============================] - 4s 4ms/step - loss: 4.3470e-04\n",
            "Epoch 32/100\n",
            "916/916 [==============================] - 4s 4ms/step - loss: 4.2148e-04\n",
            "Epoch 33/100\n",
            "916/916 [==============================] - 4s 4ms/step - loss: 4.1279e-04\n",
            "Epoch 34/100\n",
            "916/916 [==============================] - 4s 4ms/step - loss: 4.0385e-04\n",
            "Epoch 35/100\n",
            "916/916 [==============================] - 4s 4ms/step - loss: 3.9246e-04\n",
            "Epoch 36/100\n",
            "916/916 [==============================] - 4s 4ms/step - loss: 4.0614e-04\n",
            "Epoch 37/100\n",
            "916/916 [==============================] - 4s 4ms/step - loss: 3.8313e-04\n",
            "Epoch 38/100\n",
            "916/916 [==============================] - 4s 4ms/step - loss: 3.8933e-04\n",
            "Epoch 39/100\n",
            "916/916 [==============================] - 4s 4ms/step - loss: 4.1197e-04\n",
            "Epoch 40/100\n",
            "916/916 [==============================] - 4s 4ms/step - loss: 3.8931e-04\n",
            "Epoch 41/100\n",
            "916/916 [==============================] - 4s 4ms/step - loss: 3.7501e-04\n",
            "Epoch 42/100\n",
            "916/916 [==============================] - 4s 5ms/step - loss: 3.5732e-04\n",
            "Epoch 43/100\n",
            "916/916 [==============================] - 4s 5ms/step - loss: 3.5645e-04\n",
            "Epoch 44/100\n",
            "916/916 [==============================] - 4s 4ms/step - loss: 3.4777e-04\n",
            "Epoch 45/100\n",
            "916/916 [==============================] - 4s 4ms/step - loss: 3.5305e-04\n",
            "Epoch 46/100\n",
            "916/916 [==============================] - 4s 5ms/step - loss: 3.4148e-04\n",
            "Epoch 47/100\n",
            "916/916 [==============================] - 4s 4ms/step - loss: 3.2085e-04\n",
            "Epoch 48/100\n",
            "916/916 [==============================] - 4s 4ms/step - loss: 3.2074e-04\n",
            "Epoch 49/100\n",
            "916/916 [==============================] - 4s 4ms/step - loss: 3.3140e-04\n",
            "Epoch 50/100\n",
            "916/916 [==============================] - 4s 4ms/step - loss: 3.1193e-04\n",
            "Epoch 51/100\n",
            "916/916 [==============================] - 4s 4ms/step - loss: 3.1678e-04\n",
            "Epoch 52/100\n",
            "916/916 [==============================] - 4s 4ms/step - loss: 3.1134e-04\n",
            "Epoch 53/100\n",
            "916/916 [==============================] - 4s 4ms/step - loss: 3.0429e-04\n",
            "Epoch 54/100\n",
            "916/916 [==============================] - 4s 4ms/step - loss: 3.0887e-04\n",
            "Epoch 55/100\n",
            "916/916 [==============================] - 4s 4ms/step - loss: 3.1079e-04\n",
            "Epoch 56/100\n",
            "916/916 [==============================] - 4s 4ms/step - loss: 2.9590e-04\n",
            "Epoch 57/100\n",
            "916/916 [==============================] - 4s 4ms/step - loss: 2.9429e-04\n",
            "Epoch 58/100\n",
            "916/916 [==============================] - 4s 4ms/step - loss: 2.9923e-04\n",
            "Epoch 59/100\n",
            "916/916 [==============================] - 4s 4ms/step - loss: 3.2198e-04\n",
            "Epoch 60/100\n",
            "916/916 [==============================] - 4s 5ms/step - loss: 2.9521e-04\n",
            "Epoch 61/100\n",
            "916/916 [==============================] - 4s 5ms/step - loss: 3.0277e-04\n",
            "Epoch 62/100\n",
            "916/916 [==============================] - 4s 5ms/step - loss: 3.2842e-04\n",
            "Epoch 63/100\n",
            "916/916 [==============================] - 4s 5ms/step - loss: 2.9205e-04\n",
            "Epoch 64/100\n",
            "916/916 [==============================] - 4s 4ms/step - loss: 2.9256e-04\n",
            "Epoch 65/100\n",
            "916/916 [==============================] - 4s 4ms/step - loss: 2.9585e-04\n",
            "Epoch 66/100\n",
            "916/916 [==============================] - 4s 4ms/step - loss: 2.9460e-04\n",
            "Epoch 67/100\n",
            "916/916 [==============================] - 4s 4ms/step - loss: 2.9383e-04\n",
            "Epoch 68/100\n",
            "916/916 [==============================] - 4s 4ms/step - loss: 2.8129e-04\n",
            "Epoch 69/100\n",
            "916/916 [==============================] - 4s 4ms/step - loss: 2.7671e-04\n",
            "Epoch 70/100\n",
            "916/916 [==============================] - 4s 4ms/step - loss: 3.1052e-04\n",
            "Epoch 71/100\n",
            "916/916 [==============================] - 4s 4ms/step - loss: 2.7613e-04\n",
            "Epoch 72/100\n",
            "916/916 [==============================] - 4s 4ms/step - loss: 2.7045e-04\n",
            "Epoch 73/100\n",
            "916/916 [==============================] - 4s 4ms/step - loss: 2.7603e-04\n",
            "Epoch 74/100\n",
            "916/916 [==============================] - 4s 4ms/step - loss: 2.7557e-04\n",
            "Epoch 75/100\n",
            "916/916 [==============================] - 4s 4ms/step - loss: 2.7565e-04\n",
            "Epoch 76/100\n",
            "916/916 [==============================] - 4s 4ms/step - loss: 2.7432e-04\n",
            "Epoch 77/100\n",
            "916/916 [==============================] - 4s 4ms/step - loss: 2.9348e-04\n",
            "Epoch 78/100\n",
            "916/916 [==============================] - 4s 4ms/step - loss: 2.6829e-04\n",
            "Epoch 79/100\n",
            "916/916 [==============================] - 4s 4ms/step - loss: 2.7085e-04\n",
            "Epoch 80/100\n",
            "916/916 [==============================] - 4s 4ms/step - loss: 2.6105e-04\n",
            "Epoch 81/100\n",
            "916/916 [==============================] - 4s 4ms/step - loss: 2.7034e-04\n",
            "Epoch 82/100\n",
            "916/916 [==============================] - 4s 5ms/step - loss: 2.8996e-04\n",
            "Epoch 83/100\n",
            "916/916 [==============================] - 4s 5ms/step - loss: 2.5879e-04\n",
            "Epoch 84/100\n",
            "916/916 [==============================] - 4s 4ms/step - loss: 2.6093e-04\n",
            "Epoch 85/100\n",
            "916/916 [==============================] - 4s 4ms/step - loss: 2.7530e-04\n",
            "Epoch 86/100\n",
            "916/916 [==============================] - 4s 4ms/step - loss: 2.6741e-04\n",
            "Epoch 87/100\n",
            "916/916 [==============================] - 4s 4ms/step - loss: 2.6692e-04\n",
            "Epoch 88/100\n",
            "916/916 [==============================] - 4s 4ms/step - loss: 2.9838e-04\n",
            "Epoch 89/100\n",
            "916/916 [==============================] - 4s 4ms/step - loss: 2.6747e-04\n",
            "Epoch 90/100\n",
            "916/916 [==============================] - 4s 4ms/step - loss: 2.6210e-04\n",
            "Epoch 91/100\n",
            "916/916 [==============================] - 4s 4ms/step - loss: 2.5297e-04\n",
            "Epoch 92/100\n",
            "916/916 [==============================] - 4s 4ms/step - loss: 2.6364e-04\n",
            "Epoch 93/100\n",
            "916/916 [==============================] - 4s 4ms/step - loss: 2.6096e-04\n",
            "Epoch 94/100\n",
            "916/916 [==============================] - 4s 4ms/step - loss: 2.4692e-04\n",
            "Epoch 95/100\n",
            "916/916 [==============================] - 4s 4ms/step - loss: 2.5979e-04\n",
            "Epoch 96/100\n",
            "916/916 [==============================] - 4s 4ms/step - loss: 2.5194e-04\n",
            "Epoch 97/100\n",
            "916/916 [==============================] - 4s 4ms/step - loss: 2.4676e-04\n",
            "Epoch 98/100\n",
            "916/916 [==============================] - 4s 4ms/step - loss: 2.4808e-04\n",
            "Epoch 99/100\n",
            "916/916 [==============================] - 4s 4ms/step - loss: 2.5107e-04\n",
            "Epoch 100/100\n",
            "916/916 [==============================] - 4s 4ms/step - loss: 2.6230e-04\n"
          ],
          "name": "stdout"
        },
        {
          "output_type": "execute_result",
          "data": {
            "text/plain": [
              "<keras.callbacks.History at 0x7f7b4ebc80f0>"
            ]
          },
          "metadata": {
            "tags": []
          },
          "execution_count": 73
        }
      ]
    },
    {
      "cell_type": "code",
      "metadata": {
        "id": "_DuKj06YJnrw",
        "colab_type": "code",
        "colab": {
          "base_uri": "https://localhost:8080/",
          "height": 287
        },
        "outputId": "03d4c339-1f46-4517-970b-01965f8b64db"
      },
      "source": [
        "plt.plot(model.history.history['loss'])\n",
        "plt.show"
      ],
      "execution_count": null,
      "outputs": [
        {
          "output_type": "execute_result",
          "data": {
            "text/plain": [
              "<function matplotlib.pyplot.show>"
            ]
          },
          "metadata": {
            "tags": []
          },
          "execution_count": 74
        },
        {
          "output_type": "display_data",
          "data": {
            "image/png": "[encoded data removed]",
            "text/plain": [
              "<Figure size 432x288 with 1 Axes>"
            ]
          },
          "metadata": {
            "tags": []
          }
        }
      ]
    },
    {
      "cell_type": "code",
      "metadata": {
        "id": "VTO0jkuKJnp5",
        "colab_type": "code",
        "colab": {
          "base_uri": "https://localhost:8080/",
          "height": 53
        },
        "outputId": "3eef7141-3a74-4049-a2da-9f650b173744"
      },
      "source": [
        "# 모델 적용\n",
        "trainPredict = model.predict(trainX)\n",
        "testPredict = model.predict(testX)\n",
        "\n",
        "# 예측 결과에 적용할 수 있도록 역변환\n",
        "trainPredict = scaler.inverse_transform(trainPredict) \n",
        "trainY = scaler.inverse_transform([trainY])\n",
        "\n",
        "testPredict = scaler.inverse_transform(testPredict)\n",
        "testY = scaler.inverse_transform([testY])\n",
        "\n",
        "# Root MSE 계산\n",
        "trainScore = math.sqrt(mean_squared_error(trainY[0], trainPredict[:,0]))\n",
        "print('Train Score: %.2f RMSE' % (trainScore))\n",
        "\n",
        "testScore = math.sqrt(mean_squared_error(testY[0], testPredict[:,0]))\n",
        "print('Test Score: %.2f RMSE' % (testScore))\n",
        "\n",
        "#RMSE값은 작을수록 정밀도가 높은거"
      ],
      "execution_count": null,
      "outputs": [
        {
          "output_type": "stream",
          "text": [
            "Train Score: 2.24 RMSE\n",
            "Test Score: 5.64 RMSE\n"
          ],
          "name": "stdout"
        }
      ]
    },
    {
      "cell_type": "code",
      "metadata": {
        "id": "nFxkkp8VJnoP",
        "colab_type": "code",
        "colab": {
          "base_uri": "https://localhost:8080/",
          "height": 370
        },
        "outputId": "54952f73-a3ca-4f72-d9f4-1833ab3fa9fd"
      },
      "source": [
        "# 원본 데이터 세트가 파란색으로 표시\n",
        "# 훈련 데이터 세트의 예상은 녹색으로 표시\n",
        "# 보이지 않는 테스트 데이터 세트의 예측은 빨간색으로 표시\n",
        "\n",
        "# shift train predictions for plotting\n",
        "trainPredictPlot = np.empty_like(dataset)\n",
        "trainPredictPlot[:, :] = np.nan\n",
        "trainPredictPlot[look_back:len(trainPredict)+look_back, :] = trainPredict\n",
        "\n",
        "# shift test predictions for plotting\n",
        "testPredictPlot = np.empty_like(dataset)\n",
        "testPredictPlot[:, :] = np.nan\n",
        "testPredictPlot[len(trainPredict)+(look_back*2)+1:len(dataset)-1, :] = testPredict\n",
        "\n",
        "# plot baseline and predictions\n",
        "plt.figure(figsize = (15, 5))\n",
        "plt.title(\"Monthly Total Airline Passengers 1949 - 1960\")\n",
        "plt.ylabel(\"Airline Passengers\")\n",
        "plt.xlabel(\"Months\")\n",
        "plt.plot(scaler.inverse_transform(dataset),color='blue')\n",
        "plt.plot(trainPredictPlot,color='green')\n",
        "plt.plot(testPredictPlot,color='red')\n",
        "\n",
        "plt.show()"
      ],
      "execution_count": null,
      "outputs": [
        {
          "output_type": "display_data",
          "data": {
            "image/png": "[encoded data removed]",
            "text/plain": [
              "<Figure size 1080x360 with 1 Axes>"
            ]
          },
          "metadata": {
            "tags": []
          }
        }
      ]
    }
  ]
}